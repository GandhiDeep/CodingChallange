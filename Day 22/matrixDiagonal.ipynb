{
  "nbformat": 4,
  "nbformat_minor": 0,
  "metadata": {
    "colab": {
      "name": "CodeChef",
      "provenance": [],
      "collapsed_sections": []
    },
    "kernelspec": {
      "name": "python3",
      "display_name": "Python 3"
    },
    "language_info": {
      "name": "python"
    }
  },
  "cells": [
    {
      "cell_type": "markdown",
      "source": [
        "https://leetcode.com/problems/matrix-diagonal-sum/submissions/"
      ],
      "metadata": {
        "id": "d8B2SdYGjEU-"
      }
    },
    {
      "cell_type": "code",
      "execution_count": null,
      "metadata": {
        "id": "r8RmjtKGUHPy"
      },
      "outputs": [],
      "source": [
        "class Solution:\n",
        "    def diagonalSum(self, mat: List[List[int]]) -> int:\n",
        "        j = len(mat)-1\n",
        "        sum1,sum2=0,0\n",
        "        for i in range(len(mat)):\n",
        "            sum1 = sum1 + mat[i][i]\n",
        "            sum2 = sum2 + mat[i][j]\n",
        "            j =j-1\n",
        "        n = int(len(mat) / 2)\n",
        "        if(len(mat)%2==0): \n",
        "            ans = sum1 + sum2 \n",
        "        else:\n",
        "            ans = sum1 + sum2 - mat[n][n]\n",
        "        return ans"
      ]
    }
  ]
}