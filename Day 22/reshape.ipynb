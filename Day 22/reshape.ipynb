{
  "nbformat": 4,
  "nbformat_minor": 0,
  "metadata": {
    "colab": {
      "name": "CodeChef",
      "provenance": [],
      "collapsed_sections": []
    },
    "kernelspec": {
      "name": "python3",
      "display_name": "Python 3"
    },
    "language_info": {
      "name": "python"
    }
  },
  "cells": [
    {
      "cell_type": "markdown",
      "source": [
        "https://leetcode.com/problems/reshape-the-matrix/submissions/"
      ],
      "metadata": {
        "id": "d8B2SdYGjEU-"
      }
    },
    {
      "cell_type": "code",
      "execution_count": 6,
      "metadata": {
        "id": "r8RmjtKGUHPy",
        "colab": {
          "base_uri": "https://localhost:8080/"
        },
        "outputId": "3b357feb-1648-45b2-bcf2-1ac7ef37a5cc"
      },
      "outputs": [
        {
          "output_type": "stream",
          "name": "stdout",
          "text": [
            "6\n",
            "[[2 2]\n",
            " [1 3]\n",
            " [1 1]]\n"
          ]
        }
      ],
      "source": [
        "import numpy as np\n",
        "class Solution:\n",
        "    def matrixReshape(self, mat: List[List[int]], r: int, c: int) -> List[List[int]]:\n",
        "        arr = np.array(mat)\n",
        "        arr1 = arr.flatten()\n",
        "        if(len(mat)*len(mat[0])!=r*c):\n",
        "            return mat\n",
        "        else:\n",
        "            return arr1.reshape(r,c)"
      ]
    }
  ]
}