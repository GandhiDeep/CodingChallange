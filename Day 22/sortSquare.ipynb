{
  "nbformat": 4,
  "nbformat_minor": 0,
  "metadata": {
    "colab": {
      "name": "CodeChef",
      "provenance": [],
      "collapsed_sections": []
    },
    "kernelspec": {
      "name": "python3",
      "display_name": "Python 3"
    },
    "language_info": {
      "name": "python"
    }
  },
  "cells": [
    {
      "cell_type": "markdown",
      "source": [
        "https://leetcode.com/problems/squares-of-a-sorted-array/submissions/"
      ],
      "metadata": {
        "id": "d8B2SdYGjEU-"
      }
    },
    {
      "cell_type": "code",
      "execution_count": null,
      "metadata": {
        "id": "r8RmjtKGUHPy"
      },
      "outputs": [],
      "source": [
        "class Solution:\n",
        "    def sortedSquares(self, nums: List[int]) -> List[int]:\n",
        "        for i in range(len(nums)):\n",
        "            nums[i] = nums[i] ** 2\n",
        "        nums.sort()\n",
        "        return nums"
      ]
    }
  ]
}