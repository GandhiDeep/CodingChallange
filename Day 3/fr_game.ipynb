{
  "nbformat": 4,
  "nbformat_minor": 0,
  "metadata": {
    "colab": {
      "name": "CodeChef",
      "provenance": [],
      "collapsed_sections": []
    },
    "kernelspec": {
      "name": "python3",
      "display_name": "Python 3"
    },
    "language_info": {
      "name": "python"
    }
  },
  "cells": [
    {
      "cell_type": "markdown",
      "source": [
        "https://www.codechef.com/submit/FRGAME"
      ],
      "metadata": {
        "id": "OooPJKkk7zCO"
      }
    },
    {
      "cell_type": "code",
      "execution_count": 4,
      "metadata": {
        "id": "r8RmjtKGUHPy",
        "colab": {
          "base_uri": "https://localhost:8080/"
        },
        "outputId": "0b258e86-81ff-4690-e2a0-6736de7438e7"
      },
      "outputs": [
        {
          "output_type": "stream",
          "name": "stdout",
          "text": [
            "3\n",
            "2 3 4 5\n",
            "S\n",
            "3 3 3 3\n",
            "N\n",
            "2 3 1 2\n",
            "S\n"
          ]
        }
      ],
      "source": [
        "t = int(input())\n",
        "while t > 0:\n",
        "  a,b,c,d = map(int, input().split())\n",
        "  if(a < b):\n",
        "    a = a+c\n",
        "  else:\n",
        "    b = b+c\n",
        "  \n",
        "  if(a < b):\n",
        "    a = a+d\n",
        "  else:\n",
        "    b = b+d\n",
        "\n",
        "  if(a==b or a>b):\n",
        "    print(\"N\")\n",
        "  else:\n",
        "    print(\"S\")\n",
        "  t = t-1\n"
      ]
    }
  ]
}