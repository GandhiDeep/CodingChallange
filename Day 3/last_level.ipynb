{
  "nbformat": 4,
  "nbformat_minor": 0,
  "metadata": {
    "colab": {
      "name": "Untitled",
      "provenance": [],
      "collapsed_sections": []
    },
    "kernelspec": {
      "name": "python3",
      "display_name": "Python 3"
    },
    "language_info": {
      "name": "python"
    }
  },
  "cells": [
    {
      "cell_type": "markdown",
      "source": [
        "https://www.codechef.com/submit/LASTLEVELS"
      ],
      "metadata": {
        "id": "OooPJKkk7zCO"
      }
    },
    {
      "cell_type": "code",
      "execution_count": null,
      "metadata": {
        "id": "r8RmjtKGUHPy"
      },
      "outputs": [],
      "source": [
        "# cook your dish here\n",
        "t = int(input())\n",
        "while t > 0:\n",
        "    x,y,z = input().split()\n",
        "    if(int(x)%3==0):\n",
        "        final = (((int(x)/3)-1)*int(z)) + int(x)*int(y)\n",
        "    else:\n",
        "        final = (int((int(x)/3))*int(z)) + int(x)*int(y)\n",
        "    print(int(final))\n",
        "    t = t-1"
      ]
    }
  ]
}