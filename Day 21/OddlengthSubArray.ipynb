{
  "nbformat": 4,
  "nbformat_minor": 0,
  "metadata": {
    "colab": {
      "name": "CodeChef",
      "provenance": [],
      "collapsed_sections": []
    },
    "kernelspec": {
      "name": "python3",
      "display_name": "Python 3"
    },
    "language_info": {
      "name": "python"
    }
  },
  "cells": [
    {
      "cell_type": "markdown",
      "source": [
        "https://leetcode.com/problems/sum-of-all-odd-length-subarrays/submissions/"
      ],
      "metadata": {
        "id": "d8B2SdYGjEU-"
      }
    },
    {
      "cell_type": "markdown",
      "source": [
        "https://www.youtube.com/watch?v=LSFcmgq0HYY&t=240s&ab_channel=ShashwatTiwari\n",
        "for explanation"
      ],
      "metadata": {
        "id": "FeoGCt39omt1"
      }
    },
    {
      "cell_type": "code",
      "execution_count": 2,
      "metadata": {
        "id": "r8RmjtKGUHPy",
        "colab": {
          "base_uri": "https://localhost:8080/"
        },
        "outputId": "c3f4768e-9bfa-4b01-f764-2a6e927433d1"
      },
      "outputs": [
        {
          "output_type": "stream",
          "name": "stdout",
          "text": [
            "[1, 2, 0, 4, 0]\n"
          ]
        }
      ],
      "source": [
        "class Solution:\n",
        "    def sumOddLengthSubarrays(self, arr: List[int]) -> int:\n",
        "        ans = 0\n",
        "        for i in range(len(arr)):\n",
        "            ans = ans + int((((i+1)* (len(arr)-i))+1)/2) * arr[i] \n",
        "        return ans"
      ]
    }
  ]
}