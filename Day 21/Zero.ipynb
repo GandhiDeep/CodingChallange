{
  "nbformat": 4,
  "nbformat_minor": 0,
  "metadata": {
    "colab": {
      "name": "CodeChef",
      "provenance": [],
      "collapsed_sections": []
    },
    "kernelspec": {
      "name": "python3",
      "display_name": "Python 3"
    },
    "language_info": {
      "name": "python"
    }
  },
  "cells": [
    {
      "cell_type": "markdown",
      "source": [
        "https://leetcode.com/problems/move-zeroes/submissions/"
      ],
      "metadata": {
        "id": "d8B2SdYGjEU-"
      }
    },
    {
      "cell_type": "code",
      "execution_count": 2,
      "metadata": {
        "id": "r8RmjtKGUHPy",
        "colab": {
          "base_uri": "https://localhost:8080/"
        },
        "outputId": "c3f4768e-9bfa-4b01-f764-2a6e927433d1"
      },
      "outputs": [
        {
          "output_type": "stream",
          "name": "stdout",
          "text": [
            "[1, 2, 0, 4, 0]\n"
          ]
        }
      ],
      "source": [
        "class Solution:\n",
        "    def moveZeroes(self, nums: List[int]) -> None:\n",
        "        \"\"\"\n",
        "        Do not return anything, modify nums in-place instead.\n",
        "        \"\"\"\n",
        "        i = 0\n",
        "        j = 0\n",
        "        while i < len(nums):\n",
        "            if nums[i] != 0:\n",
        "                nums[j] , nums[i] = nums[i], nums[j]\n",
        "                j += 1\n",
        "            i += 1"
      ]
    }
  ]
}