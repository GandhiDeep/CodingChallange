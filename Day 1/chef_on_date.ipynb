{
 "cells": [
  {
   "cell_type": "markdown",
   "metadata": {},
   "source": [
    "Problem:\n",
    "Chef and his girlfriend go on a date. Chef took XX dollars with him, and was quite sure that this would be enough to pay the bill. At the end, the waiter brought a bill of YY dollars. Print \"YES\" if Chef has enough money to pay the bill, or \"NO\" if he has to borrow from his girlfriend and leave a bad impression on her.\n",
    "\n",
    "Input Format:\n",
    "The first line of input will contain a single integer TT, denoting the number of test cases.\n",
    "Each test case consists of a single line of input, containing two space-separated integers XX and YY.\n",
    "\n",
    "Output Format:\n",
    "For each test case, output on a new line \"YES\" if Chef has enough money to pay the bill and \"NO\" otherwise.\n",
    "\n",
    "You may print each character of the string in either uppercase or lowercase (for example, the strings \"yEs\", \"yes\", \"Yes\" and \"YES\" will all be treated as identical)."
   ]
  },
  {
   "cell_type": "markdown",
   "metadata": {},
   "source": [
    "Sample 1:\n",
    "Input\n",
    "Output\n",
    "4\n",
    "1 1\n",
    "1 2\n",
    "2 1\n",
    "50 100\n",
    "YES\n",
    "NO\n",
    "YES\n",
    "NO\n",
    "Explanation:\n",
    "Test case 11: Since the money Chef has is equal to the bill, he will be able to pay the bill.\n",
    "\n",
    "Test case 22: Since the money Chef has is less than the bill, he will have to borrow from his girlfriend and leave a bad impression on her.\n",
    "\n",
    "Test case 33: Since the money Chef has is greater than the bill, he will be able to pay the bill.\n",
    "\n",
    "Test case 44: Since the money Chef has is less than the bill, he will have to borrow from his girlfriend and leave a bad impression on her."
   ]
  },
  {
   "cell_type": "code",
   "execution_count": 1,
   "metadata": {},
   "outputs": [
    {
     "name": "stdout",
     "output_type": "stream",
     "text": [
      "no\n",
      "yes\n"
     ]
    }
   ],
   "source": [
    "def check(x,y):\n",
    "    if(x>=y):\n",
    "        print(\"yes\")\n",
    "    else:\n",
    "        print(\"no\")\n",
    "\n",
    "\n",
    "n = int(input())\n",
    "for i in range(n):\n",
    "    x,y = input().split(\" \")\n",
    "    check(int(x),int(y))"
   ]
  }
 ],
 "metadata": {
  "kernelspec": {
   "display_name": "Python 3.10.2 64-bit",
   "language": "python",
   "name": "python3"
  },
  "language_info": {
   "codemirror_mode": {
    "name": "ipython",
    "version": 3
   },
   "file_extension": ".py",
   "mimetype": "text/x-python",
   "name": "python",
   "nbconvert_exporter": "python",
   "pygments_lexer": "ipython3",
   "version": "3.10.2"
  },
  "orig_nbformat": 4,
  "vscode": {
   "interpreter": {
    "hash": "07f73eaab75900a92fe1d8071dc2a2bd27f88b07124009e287e1a74d2e34ff0c"
   }
  }
 },
 "nbformat": 4,
 "nbformat_minor": 2
}
