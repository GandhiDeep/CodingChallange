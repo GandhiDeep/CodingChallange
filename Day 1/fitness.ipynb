{
 "cells": [
  {
   "cell_type": "markdown",
   "metadata": {},
   "source": [
    "Problem:\n",
    "Chef wants to become fit for which he decided to walk to the office and return home by walking. It is known that Chef's office is XX km away from his home.\n",
    "\n",
    "If his office is open on 55 days in a week, find the number of kilometers Chef travels through office trips in a week.\n",
    "\n",
    "Input Format\n",
    "First line will contain TT, number of test cases. Then the test cases follow.\n",
    "Each test case contains of a single line consisting of single integer XX.\n",
    "Output Format\n",
    "For each test case, output the number of kilometers Chef travels through office trips in a week.\n",
    "\n",
    "Constraints\n",
    "1 ≤ T≤ 10\n",
    "1 ≤ X ≤ 10\n",
    "\n",
    "Sample 1 :\n",
    "Input:\n",
    "4\n",
    "1\n",
    "3\n",
    "7\n",
    "10\n",
    "\n",
    "Output:\n",
    "10\n",
    "30\n",
    "70\n",
    "100\n",
    "\n",
    "Explanation:\n",
    "Test case 11: The office is 11 km away. Thus, to go to the office and come back home, Chef has to walk 22 kms in a day. In a week with 55 working days, Chef has to travel 2⋅5=10 kms in total.\n",
    "\n",
    "Test case 22: The office is 33 kms away. Thus, to go to the office and come back home, Chef has to walk 66 kms in a day. In a week with 55 working days, Chef has to travel 6⋅5=30 kms in total.\n",
    "\n",
    "Test case 33: The office is 77 kms away. Thus, to go to the office and come back home, Chef has to walk 1414 kms in a day. In a week with 55 working days, Chef has to travel 4⋅5=70 kms in total.\n",
    "\n",
    "Test case 44: The office is 1010 kms away. Thus, to go to the office and come back home, Chef has to walk 2020 kms in a day. In a week with 55 working days, Chef has to travel 20⋅5=100 kms in total."
   ]
  },
  {
   "cell_type": "code",
   "execution_count": null,
   "metadata": {},
   "outputs": [],
   "source": [
    "# cook your dish here\n",
    "def travel(x):\n",
    "    answer = x*2\n",
    "    print(answer*5)\n",
    "    \n",
    "n = int(input())\n",
    "for i in range(n):\n",
    "    x = int(input())\n",
    "    travel(x)"
   ]
  }
 ],
 "metadata": {
  "kernelspec": {
   "display_name": "Python 3.10.2 64-bit",
   "language": "python",
   "name": "python3"
  },
  "language_info": {
   "name": "python",
   "version": "3.10.2"
  },
  "orig_nbformat": 4,
  "vscode": {
   "interpreter": {
    "hash": "07f73eaab75900a92fe1d8071dc2a2bd27f88b07124009e287e1a74d2e34ff0c"
   }
  }
 },
 "nbformat": 4,
 "nbformat_minor": 2
}
