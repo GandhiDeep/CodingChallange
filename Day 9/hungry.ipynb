{
  "nbformat": 4,
  "nbformat_minor": 0,
  "metadata": {
    "colab": {
      "name": "CodeChef",
      "provenance": [],
      "collapsed_sections": []
    },
    "kernelspec": {
      "name": "python3",
      "display_name": "Python 3"
    },
    "language_info": {
      "name": "python"
    }
  },
  "cells": [
    {
      "cell_type": "markdown",
      "source": [
        "https://www.codechef.com/submit/PIZZA_BURGER"
      ],
      "metadata": {
        "id": "OooPJKkk7zCO"
      }
    },
    {
      "cell_type": "code",
      "execution_count": null,
      "metadata": {
        "id": "r8RmjtKGUHPy"
      },
      "outputs": [],
      "source": [
        "# cook your dish here\n",
        "t = int(input())\n",
        "while t > 0:\n",
        "    x,y,z  = map(int, input().split(\" \"))\n",
        "    if(x < min(y,z)):\n",
        "        print(\"NOTHING\")\n",
        "    elif(x >= max(y,z)):\n",
        "        print(\"PIZZA\")\n",
        "    elif(x>=y and x<=z):\n",
        "        print(\"PIZZA\")\n",
        "    elif(x<=y and x>=z):\n",
        "        print(\"BURGER\")\n",
        "    t =t-1"
      ]
    }
  ]
}