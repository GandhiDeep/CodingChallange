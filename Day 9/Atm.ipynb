{
  "nbformat": 4,
  "nbformat_minor": 0,
  "metadata": {
    "colab": {
      "name": "CodeChef",
      "provenance": [],
      "collapsed_sections": []
    },
    "kernelspec": {
      "name": "python3",
      "display_name": "Python 3"
    },
    "language_info": {
      "name": "python"
    }
  },
  "cells": [
    {
      "cell_type": "markdown",
      "source": [
        "https://www.codechef.com/submit/ATM2"
      ],
      "metadata": {
        "id": "OooPJKkk7zCO"
      }
    },
    {
      "cell_type": "code",
      "execution_count": null,
      "metadata": {
        "id": "r8RmjtKGUHPy"
      },
      "outputs": [],
      "source": [
        "# cook your dish here\n",
        "t = int(input())\n",
        "while t > 0:\n",
        "    n,k = map(int, input().split(\" \"))\n",
        "    arr = list(map(int, input().split(\" \")))\n",
        "    ans = \"\"\n",
        "    for i in range(n):\n",
        "        if(arr[i] <= k):\n",
        "            ans = ans + '1'\n",
        "            k = k - arr[i]\n",
        "        else:\n",
        "            ans = ans +'0'\n",
        "    print(ans)\n",
        "    t = t-1"
      ]
    }
  ]
}