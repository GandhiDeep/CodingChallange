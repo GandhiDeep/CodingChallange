{
  "nbformat": 4,
  "nbformat_minor": 0,
  "metadata": {
    "colab": {
      "name": "CodeChef",
      "provenance": [],
      "collapsed_sections": []
    },
    "kernelspec": {
      "name": "python3",
      "display_name": "Python 3"
    },
    "language_info": {
      "name": "python"
    }
  },
  "cells": [
    {
      "cell_type": "markdown",
      "source": [
        "https://www.codechef.com/submit/DIET"
      ],
      "metadata": {
        "id": "OooPJKkk7zCO"
      }
    },
    {
      "cell_type": "code",
      "execution_count": null,
      "metadata": {
        "id": "r8RmjtKGUHPy"
      },
      "outputs": [],
      "source": [
        "# cook your dish here\n",
        "t = int(input())\n",
        "while t > 0 :\n",
        "    n,k = map(int, input().split(\" \"))\n",
        "    arr = list(map(int, input().split(\" \")))\n",
        "    ans = 0\n",
        "    remain = 0\n",
        "    for i in range(n):\n",
        "        total = remain + arr[i]\n",
        "        if(total - k <0):\n",
        "            ans  = i+1\n",
        "            break\n",
        "        else:\n",
        "            remain = total - k\n",
        "            ans = 0\n",
        "    if(ans!=0):\n",
        "        print(\"NO \",ans)\n",
        "    else:\n",
        "        print(\"YES\")\n",
        "    t = t-1"
      ]
    }
  ]
}