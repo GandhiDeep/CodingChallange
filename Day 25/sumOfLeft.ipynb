{
  "nbformat": 4,
  "nbformat_minor": 0,
  "metadata": {
    "colab": {
      "name": "CodeChef",
      "provenance": [],
      "collapsed_sections": []
    },
    "kernelspec": {
      "name": "python3",
      "display_name": "Python 3"
    },
    "language_info": {
      "name": "python"
    }
  },
  "cells": [
    {
      "cell_type": "markdown",
      "source": [
        "https://leetcode.com/problems/sum-of-left-leaves/submissions/"
      ],
      "metadata": {
        "id": "d8B2SdYGjEU-"
      }
    },
    {
      "cell_type": "code",
      "execution_count": null,
      "metadata": {
        "id": "r8RmjtKGUHPy"
      },
      "outputs": [],
      "source": [
        "class Solution:\n",
        "    def sumLeft(self, root):\n",
        "        if not root:\n",
        "            return 0\n",
        "        if not root.left and not root.right:\n",
        "            return root.val\n",
        "        return self.sumLeft(root.left) + self.sumOfLeftLeaves(root.right)\n",
        "    \n",
        "    def sumOfLeftLeaves(self, root: Optional[TreeNode]) -> int:\n",
        "        if not root:\n",
        "            return 0\n",
        "        return self.sumLeft(root.left) + self.sumOfLeftLeaves(root.right)"
      ]
    }
  ]
}