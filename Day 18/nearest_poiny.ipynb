{
  "nbformat": 4,
  "nbformat_minor": 0,
  "metadata": {
    "colab": {
      "name": "CodeChef",
      "provenance": [],
      "collapsed_sections": []
    },
    "kernelspec": {
      "name": "python3",
      "display_name": "Python 3"
    },
    "language_info": {
      "name": "python"
    }
  },
  "cells": [
    {
      "cell_type": "markdown",
      "source": [
        "https://leetcode.com/problems/find-nearest-point-that-has-the-same-x-or-y-coordinate/submissions/"
      ],
      "metadata": {
        "id": "d8B2SdYGjEU-"
      }
    },
    {
      "cell_type": "code",
      "execution_count": null,
      "metadata": {
        "id": "r8RmjtKGUHPy"
      },
      "outputs": [],
      "source": [
        "class Solution:\n",
        "    def nearestValidPoint(self, x: int, y: int, points: List[List[int]]) -> int:\n",
        "        dist = 1000000\n",
        "        index = 100000\n",
        "        flag = 0\n",
        "        for i in range(len(points)):\n",
        "            if(points[i][0]==x or points[i][1]==y):\n",
        "                a = abs(points[i][0]-x) + abs(points[i][1]-y)\n",
        "                flag = 1\n",
        "                if(a < dist):\n",
        "                    dist = a\n",
        "                    index = i\n",
        "        if(flag!=1):\n",
        "            return -1\n",
        "        else:\n",
        "            return index"
      ]
    }
  ]
}