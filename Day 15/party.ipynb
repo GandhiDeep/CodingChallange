{
  "nbformat": 4,
  "nbformat_minor": 0,
  "metadata": {
    "colab": {
      "name": "CodeChef",
      "provenance": [],
      "collapsed_sections": []
    },
    "kernelspec": {
      "name": "python3",
      "display_name": "Python 3"
    },
    "language_info": {
      "name": "python"
    }
  },
  "cells": [
    {
      "cell_type": "markdown",
      "source": [
        "https://www.codechef.com/submit/CHFPARTY?tab=statement"
      ],
      "metadata": {
        "id": "d8B2SdYGjEU-"
      }
    },
    {
      "cell_type": "code",
      "execution_count": 13,
      "metadata": {
        "id": "r8RmjtKGUHPy",
        "colab": {
          "base_uri": "https://localhost:8080/"
        },
        "outputId": "dcc5ed6f-0131-4a6b-cf07-0ae1850bf16a"
      },
      "outputs": [
        {
          "output_type": "stream",
          "name": "stdout",
          "text": [
            "1\n",
            "3\n",
            "1 2 3\n",
            "0\n"
          ]
        }
      ],
      "source": [
        "# cook your dish here\n",
        "t = int(input())\n",
        "while t>0:\n",
        "    n = int(input())\n",
        "    arr = list(map(int, input().split()))\n",
        "    total = 0\n",
        "    arr.sort()\n",
        "    for i in range(n):\n",
        "        if(total >= arr[i]):\n",
        "            total += 1\n",
        "        else:\n",
        "            break\n",
        "    print(total)\n",
        "    t=t-1"
      ]
    }
  ]
}