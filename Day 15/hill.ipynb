{
  "nbformat": 4,
  "nbformat_minor": 0,
  "metadata": {
    "colab": {
      "name": "CodeChef",
      "provenance": [],
      "collapsed_sections": []
    },
    "kernelspec": {
      "name": "python3",
      "display_name": "Python 3"
    },
    "language_info": {
      "name": "python"
    }
  },
  "cells": [
    {
      "cell_type": "markdown",
      "source": [
        "https://www.codechef.com/submit/HILLS?tab=statement"
      ],
      "metadata": {
        "id": "d8B2SdYGjEU-"
      }
    },
    {
      "cell_type": "code",
      "execution_count": 5,
      "metadata": {
        "id": "r8RmjtKGUHPy",
        "colab": {
          "base_uri": "https://localhost:8080/"
        },
        "outputId": "8ef82eea-71c1-46d7-96eb-f1bd4e5bbc8f"
      },
      "outputs": [
        {
          "output_type": "stream",
          "name": "stdout",
          "text": [
            "1\n",
            "5 2 1\n",
            "3 5 3 4 1\n",
            "4\n"
          ]
        }
      ],
      "source": [
        "# cook your dish here\n",
        "t = int(input())\n",
        "while t > 0:\n",
        "    n,u,d = map(int, input().split())\n",
        "    arr = list(map(int, input().split()))\n",
        "    count = 1\n",
        "    para = 1\n",
        "    for i in range(n-1):\n",
        "        if(arr[i]==arr[i+1]):\n",
        "          count += 1\n",
        "        else:\n",
        "          if(arr[i+1] > arr[i]):\n",
        "            if(arr[i+1] - arr[i] <= u):\n",
        "              count = count +1\n",
        "            else:\n",
        "              break\n",
        "          else:\n",
        "            if(arr[i]-arr[i+1] <= d):\n",
        "              count += 1\n",
        "            else:\n",
        "              if(para!=0):\n",
        "                count = count +1\n",
        "                para = 0\n",
        "              else:\n",
        "                break\n",
        "    print(count)\n",
        "    t= t-1"
      ]
    },
    {
      "cell_type": "code",
      "source": [
        "# cook your dish here\n",
        "t = int(input())\n",
        "for _ in range(t):\n",
        "    (n,u,d) = map(int, input().split(' '))\n",
        "    a = list(map(int, input().split(' ')))\n",
        "    jump = 1\n",
        "    par = 0\n",
        "    for i in range(n-1):\n",
        "        if a[i]==a[i+1]:\n",
        "            jump += 1\n",
        "        else:\n",
        "            if a[i+1]>a[i]:\n",
        "                if (a[i+1]-a[i])<=u:\n",
        "                    jump += 1\n",
        "                else:\n",
        "                    break\n",
        "            elif a[i]>a[i+1]:\n",
        "                if (a[i]-a[i+1])<=d:\n",
        "                    jump += 1\n",
        "                else:\n",
        "                    if par!=1:\n",
        "                        jump += 1\n",
        "                        par += 1\n",
        "                    else:\n",
        "                        break\n",
        "    print(jump)"
      ],
      "metadata": {
        "colab": {
          "base_uri": "https://localhost:8080/"
        },
        "id": "ApNE5pfq479W",
        "outputId": "c589da9d-7258-43ae-b625-826e355a5a58"
      },
      "execution_count": 4,
      "outputs": [
        {
          "output_type": "stream",
          "name": "stdout",
          "text": [
            "1\n",
            "5 2 1\n",
            "3 5 3 4 1\n",
            "4\n"
          ]
        }
      ]
    }
  ]
}