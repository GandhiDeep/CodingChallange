{
  "nbformat": 4,
  "nbformat_minor": 0,
  "metadata": {
    "colab": {
      "name": "CodeChef",
      "provenance": [],
      "collapsed_sections": []
    },
    "kernelspec": {
      "name": "python3",
      "display_name": "Python 3"
    },
    "language_info": {
      "name": "python"
    }
  },
  "cells": [
    {
      "cell_type": "markdown",
      "source": [
        "https://www.codechef.com/submit/SIMPSTAT"
      ],
      "metadata": {
        "id": "d8B2SdYGjEU-"
      }
    },
    {
      "cell_type": "code",
      "execution_count": null,
      "metadata": {
        "id": "r8RmjtKGUHPy"
      },
      "outputs": [],
      "source": [
        "# cook your dish here\n",
        "t = int(input())\n",
        "while t > 0:\n",
        "    n,k = map(int, input().split())\n",
        "    arr = list(map(int, input().split()))\n",
        "    arr.sort()\n",
        "    arr1 = arr[k:n-k]\n",
        "    ans = sum(arr1) / len(arr1)\n",
        "    print(\"%.6f\"%ans)\n",
        "    t= t-1"
      ]
    }
  ]
}