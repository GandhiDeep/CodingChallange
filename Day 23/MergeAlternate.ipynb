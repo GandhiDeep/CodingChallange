{
  "nbformat": 4,
  "nbformat_minor": 0,
  "metadata": {
    "colab": {
      "name": "CodeChef",
      "provenance": [],
      "collapsed_sections": []
    },
    "kernelspec": {
      "name": "python3",
      "display_name": "Python 3"
    },
    "language_info": {
      "name": "python"
    }
  },
  "cells": [
    {
      "cell_type": "markdown",
      "source": [
        "https://leetcode.com/problems/merge-strings-alternately/submissions/"
      ],
      "metadata": {
        "id": "d8B2SdYGjEU-"
      }
    },
    {
      "cell_type": "code",
      "execution_count": 10,
      "metadata": {
        "id": "r8RmjtKGUHPy",
        "colab": {
          "base_uri": "https://localhost:8080/"
        },
        "outputId": "107bcbb6-781e-4eb7-cd1c-d6140ea7ebe7"
      },
      "outputs": [
        {
          "output_type": "stream",
          "name": "stdout",
          "text": [
            "apbqcrpqr\n"
          ]
        }
      ],
      "source": [
        "class Solution:\n",
        "    def mergeAlternately(self, word1: str, word2: str) -> str:\n",
        "        ans = ''\n",
        "        for i in range(min(len(word1),len(word2))):\n",
        "            ans = ans + word1[i] + word2[i]\n",
        "        if(len(word1) > len(word2)):\n",
        "            x = len(word1) - len(word2)\n",
        "            ans = ans + word1[-x:]\n",
        "        elif(len(word2) > len(word1)):\n",
        "            x = len(word2) - len(word1)\n",
        "            ans = ans + word2[-x:]\n",
        "        else:\n",
        "            ans = ans\n",
        "        return ans"
      ]
    }
  ]
}