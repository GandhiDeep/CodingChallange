{
  "nbformat": 4,
  "nbformat_minor": 0,
  "metadata": {
    "colab": {
      "name": "CodeChef",
      "provenance": [],
      "collapsed_sections": []
    },
    "kernelspec": {
      "name": "python3",
      "display_name": "Python 3"
    },
    "language_info": {
      "name": "python"
    }
  },
  "cells": [
    {
      "cell_type": "markdown",
      "source": [
        "https://leetcode.com/problems/find-the-difference/submissions/"
      ],
      "metadata": {
        "id": "d8B2SdYGjEU-"
      }
    },
    {
      "cell_type": "code",
      "execution_count": 10,
      "metadata": {
        "id": "r8RmjtKGUHPy",
        "colab": {
          "base_uri": "https://localhost:8080/"
        },
        "outputId": "107bcbb6-781e-4eb7-cd1c-d6140ea7ebe7"
      },
      "outputs": [
        {
          "output_type": "stream",
          "name": "stdout",
          "text": [
            "apbqcrpqr\n"
          ]
        }
      ],
      "source": [
        "class Solution:\n",
        "    def findTheDifference(self, s: str, t: str) -> str:\n",
        "         for i in t:\n",
        "            if  not t.count(i) ==  s.count(i):\n",
        "                return i\n",
        "            "
      ]
    }
  ]
}