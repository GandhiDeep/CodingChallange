{
  "nbformat": 4,
  "nbformat_minor": 0,
  "metadata": {
    "colab": {
      "name": "CodeChef",
      "provenance": [],
      "collapsed_sections": []
    },
    "kernelspec": {
      "name": "python3",
      "display_name": "Python 3"
    },
    "language_info": {
      "name": "python"
    }
  },
  "cells": [
    {
      "cell_type": "markdown",
      "source": [
        "https://leetcode.com/problems/goal-parser-interpretation/submissions/"
      ],
      "metadata": {
        "id": "d8B2SdYGjEU-"
      }
    },
    {
      "cell_type": "code",
      "execution_count": 10,
      "metadata": {
        "id": "r8RmjtKGUHPy",
        "colab": {
          "base_uri": "https://localhost:8080/"
        },
        "outputId": "107bcbb6-781e-4eb7-cd1c-d6140ea7ebe7"
      },
      "outputs": [
        {
          "output_type": "stream",
          "name": "stdout",
          "text": [
            "apbqcrpqr\n"
          ]
        }
      ],
      "source": [
        "class Solution:\n",
        "    def interpret(self, command: str) -> str:\n",
        "        ans = ''\n",
        "        for i in range(len(command)):\n",
        "            if(command[i]=='G'):\n",
        "                ans = ans + 'G'\n",
        "            elif(command[i]=='('):\n",
        "                if(command[i+1]=='a'):\n",
        "                    ans = ans + 'al'\n",
        "                else:\n",
        "                    ans = ans + 'o'\n",
        "        return ans\n",
        "            "
      ]
    }
  ]
}