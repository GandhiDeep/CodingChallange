{
  "nbformat": 4,
  "nbformat_minor": 0,
  "metadata": {
    "colab": {
      "name": "CodeChef",
      "provenance": [],
      "collapsed_sections": []
    },
    "kernelspec": {
      "name": "python3",
      "display_name": "Python 3"
    },
    "language_info": {
      "name": "python"
    }
  },
  "cells": [
    {
      "cell_type": "markdown",
      "source": [
        "https://www.codechef.com/submit/CHEFAPAR?tab=submissions"
      ],
      "metadata": {
        "id": "d8B2SdYGjEU-"
      }
    },
    {
      "cell_type": "code",
      "execution_count": null,
      "metadata": {
        "id": "r8RmjtKGUHPy"
      },
      "outputs": [],
      "source": [
        "# cook your dish here\n",
        "t = int(input())\n",
        "while t> 0:\n",
        "    n = int(input())\n",
        "    arr = list(map(int, input().split()))\n",
        "    fine = 0\n",
        "    count = 0\n",
        "    for i in range(n):\n",
        "        if(arr[i]==0):\n",
        "            count += 1\n",
        "        if count !=0:\n",
        "            fine += 1\n",
        "    print(count * 1000 + fine *100)\n",
        "    t = t-1"
      ]
    }
  ]
}