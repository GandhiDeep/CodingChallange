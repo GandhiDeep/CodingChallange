{
  "nbformat": 4,
  "nbformat_minor": 0,
  "metadata": {
    "colab": {
      "name": "CodeChef",
      "provenance": [],
      "collapsed_sections": []
    },
    "kernelspec": {
      "name": "python3",
      "display_name": "Python 3"
    },
    "language_info": {
      "name": "python"
    }
  },
  "cells": [
    {
      "cell_type": "markdown",
      "source": [
        "https://leetcode.com/problems/count-odd-numbers-in-an-interval-range/submissions/"
      ],
      "metadata": {
        "id": "d8B2SdYGjEU-"
      }
    },
    {
      "cell_type": "code",
      "execution_count": null,
      "metadata": {
        "id": "r8RmjtKGUHPy"
      },
      "outputs": [],
      "source": [
        "class Solution:\n",
        "    def countOdds(self, low: int, high: int) -> int:\n",
        "        if(low%2==0 and high%2==0):\n",
        "            return int(((high-low)/2))\n",
        "        else:\n",
        "            return int(((high-low)/2)+1)"
      ]
    }
  ]
}