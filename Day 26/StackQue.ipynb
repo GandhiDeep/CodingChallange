{
  "nbformat": 4,
  "nbformat_minor": 0,
  "metadata": {
    "colab": {
      "name": "CodeChef",
      "provenance": [],
      "collapsed_sections": []
    },
    "kernelspec": {
      "name": "python3",
      "display_name": "Python 3"
    },
    "language_info": {
      "name": "python"
    }
  },
  "cells": [
    {
      "cell_type": "markdown",
      "source": [
        "https://leetcode.com/problems/implement-queue-using-stacks/submissions/"
      ],
      "metadata": {
        "id": "d8B2SdYGjEU-"
      }
    },
    {
      "cell_type": "code",
      "execution_count": null,
      "metadata": {
        "id": "r8RmjtKGUHPy"
      },
      "outputs": [],
      "source": [
        "class MyQueue:\n",
        "\n",
        "    def __init__(self):\n",
        "        self.stack = []\n",
        "\n",
        "    def push(self, x: int) -> None:\n",
        "        self.stack.append(x)\n",
        "\n",
        "    def pop(self) -> int:\n",
        "        if self.stack:\n",
        "            return self.stack.pop(0)\n",
        "\n",
        "    def peek(self) -> int:\n",
        "        return self.stack[0]\n",
        "\n",
        "    def empty(self) -> bool:\n",
        "        return len(self.stack) == 0\n",
        "        \n",
        "\n",
        "\n",
        "# Your MyQueue object will be instantiated and called as such:\n",
        "# obj = MyQueue()\n",
        "# obj.push(x)\n",
        "# param_2 = obj.pop()\n",
        "# param_3 = obj.peek()\n",
        "# param_4 = obj.empty()"
      ]
    }
  ]
}