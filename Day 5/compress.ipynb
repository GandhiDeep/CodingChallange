{
  "nbformat": 4,
  "nbformat_minor": 0,
  "metadata": {
    "colab": {
      "name": "CodeChef",
      "provenance": [],
      "collapsed_sections": []
    },
    "kernelspec": {
      "name": "python3",
      "display_name": "Python 3"
    },
    "language_info": {
      "name": "python"
    }
  },
  "cells": [
    {
      "cell_type": "markdown",
      "source": [
        "https://www.codechef.com/submit/COMPRESSVD"
      ],
      "metadata": {
        "id": "OooPJKkk7zCO"
      }
    },
    {
      "cell_type": "markdown",
      "source": [
        "Here we are checking whether the elements which are adjecent to each other are same or not. If they are same then then we won't count the counter otherwise we will. Finally we need to add one more as two elemts as are same then it won't count any of them so we need to count one more."
      ],
      "metadata": {
        "id": "ihaOMgFWgQOU"
      }
    },
    {
      "cell_type": "code",
      "execution_count": null,
      "metadata": {
        "id": "r8RmjtKGUHPy"
      },
      "outputs": [],
      "source": [
        "# cook your dish here\n",
        "t = int(input())\n",
        "while t > 0:\n",
        "    n = int(input())\n",
        "    arr = list(map(int, input().split(\" \")))\n",
        "    count = 0\n",
        "    for i in range(n-1):\n",
        "        if(arr[i]!=arr[i+1]):\n",
        "            count = count + 1\n",
        "    print(count+1)\n",
        "    t = t-1"
      ]
    }
  ]
}