{
  "nbformat": 4,
  "nbformat_minor": 0,
  "metadata": {
    "colab": {
      "name": "CodeChef",
      "provenance": [],
      "collapsed_sections": []
    },
    "kernelspec": {
      "name": "python3",
      "display_name": "Python 3"
    },
    "language_info": {
      "name": "python"
    }
  },
  "cells": [
    {
      "cell_type": "markdown",
      "source": [
        "https://www.codechef.com/submit/DOLL"
      ],
      "metadata": {
        "id": "OooPJKkk7zCO"
      }
    },
    {
      "cell_type": "code",
      "execution_count": null,
      "metadata": {
        "id": "r8RmjtKGUHPy"
      },
      "outputs": [],
      "source": [
        "# cook your dish here\n",
        "t = int(input())\n",
        "while t > 0:\n",
        "    n,k = map(int, input().split(\" \"))\n",
        "    arr = list(map(int, input().split(\" \")))\n",
        "    count = 0\n",
        "    for i in range(n):\n",
        "        if(arr[i] > k):\n",
        "            count = count +1\n",
        "    print(count)\n",
        "    t = t-1"
      ]
    }
  ]
}