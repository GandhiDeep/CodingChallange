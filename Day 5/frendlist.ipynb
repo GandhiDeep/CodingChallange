{
  "nbformat": 4,
  "nbformat_minor": 0,
  "metadata": {
    "colab": {
      "name": "CodeChef",
      "provenance": [],
      "collapsed_sections": []
    },
    "kernelspec": {
      "name": "python3",
      "display_name": "Python 3"
    },
    "language_info": {
      "name": "python"
    }
  },
  "cells": [
    {
      "cell_type": "markdown",
      "source": [
        "https://www.codechef.com/submit/CFRTEST"
      ],
      "metadata": {
        "id": "OooPJKkk7zCO"
      }
    },
    {
      "cell_type": "markdown",
      "source": [
        "Here our goal is to find out the number of distinct element present in the list. Here we are doing exactly that. "
      ],
      "metadata": {
        "id": "1htk32O2GjOH"
      }
    },
    {
      "cell_type": "code",
      "execution_count": 8,
      "metadata": {
        "id": "r8RmjtKGUHPy",
        "colab": {
          "base_uri": "https://localhost:8080/"
        },
        "outputId": "ffd20dec-5577-4c15-881a-428473acf927"
      },
      "outputs": [
        {
          "output_type": "stream",
          "name": "stdout",
          "text": [
            "3\n",
            "1 2 1\n",
            "2\n"
          ]
        }
      ],
      "source": [
        "from collections import Counter\n",
        "\n",
        "n = int(input())\n",
        "arr = list(map(int, input().split(\" \")))\n",
        "print(len(Counter(arr).keys()))"
      ]
    }
  ]
}