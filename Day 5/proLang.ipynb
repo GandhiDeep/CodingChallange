{
  "nbformat": 4,
  "nbformat_minor": 0,
  "metadata": {
    "colab": {
      "name": "CodeChef",
      "provenance": [],
      "collapsed_sections": []
    },
    "kernelspec": {
      "name": "python3",
      "display_name": "Python 3"
    },
    "language_info": {
      "name": "python"
    }
  },
  "cells": [
    {
      "cell_type": "markdown",
      "source": [
        "https://www.codechef.com/submit/PROGLANG"
      ],
      "metadata": {
        "id": "OooPJKkk7zCO"
      }
    },
    {
      "cell_type": "code",
      "execution_count": null,
      "metadata": {
        "id": "r8RmjtKGUHPy"
      },
      "outputs": [],
      "source": [
        "# cook your dish here\n",
        "t = int(input())\n",
        "while t > 0:\n",
        "    a,b,a1,b1,a2,b2 = map(int, input().split(\" \"))\n",
        "    if((a==a1 or a==b1) and (b==a1 or b==b1)):\n",
        "        print(1)\n",
        "    elif((a==a2 or a==b2) and (b==a2 or b==b2)):\n",
        "        print(2)\n",
        "    else:\n",
        "        print(0)\n",
        "    t = t-1"
      ]
    }
  ]
}