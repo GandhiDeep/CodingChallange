{
  "nbformat": 4,
  "nbformat_minor": 0,
  "metadata": {
    "colab": {
      "name": "CodeChef",
      "provenance": [],
      "collapsed_sections": []
    },
    "kernelspec": {
      "name": "python3",
      "display_name": "Python 3"
    },
    "language_info": {
      "name": "python"
    }
  },
  "cells": [
    {
      "cell_type": "markdown",
      "source": [
        "https://www.codechef.com/submit/MATCHES"
      ],
      "metadata": {
        "id": "OooPJKkk7zCO"
      }
    },
    {
      "cell_type": "markdown",
      "source": [
        ""
      ],
      "metadata": {
        "id": "ihaOMgFWgQOU"
      }
    },
    {
      "cell_type": "code",
      "execution_count": 3,
      "metadata": {
        "id": "r8RmjtKGUHPy",
        "colab": {
          "base_uri": "https://localhost:8080/"
        },
        "outputId": "f257a11a-aa9b-46ec-d647-c77f9fff4824"
      },
      "outputs": [
        {
          "output_type": "stream",
          "name": "stdout",
          "text": [
            "123 234\n",
            "13\n"
          ]
        }
      ],
      "source": [
        "# cook your dish here\n",
        "t = int(input())\n",
        "while t > 0:\n",
        "  a,b = map(int, input().split()) \n",
        "  s = a+b\n",
        "  ans = list(map(int, str(s)))\n",
        "  answer = 0\n",
        "  for i in range(len(ans)):\n",
        "    if(ans[i]==2 or ans[i]==3 or ans[i]==5):\n",
        "      answer = answer + 5\n",
        "    elif(ans[i]==0 or ans[i]==6 or ans[i]==9):\n",
        "      answer = answer + 6\n",
        "    elif(ans[i]==1):\n",
        "      answer = answer + 2\n",
        "    elif(ans[i]==7):\n",
        "      answer = answer + 3\n",
        "    elif(ans[i]==8):\n",
        "      answer = answer + 7\n",
        "    else:\n",
        "      answer = answer + 4\n",
        "  print(answer)\n",
        "  t = t-1"
      ]
    }
  ]
}