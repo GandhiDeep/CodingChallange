{
  "cells": [
    {
      "cell_type": "markdown",
      "metadata": {
        "id": "OooPJKkk7zCO"
      },
      "source": [
        "https://www.codechef.com/submit/MISSP"
      ]
    },
    {
      "cell_type": "markdown",
      "metadata": {
        "id": "1htk32O2GjOH"
      },
      "source": [
        "Here there is a simple task that we need to find out the odd one. So main approach is to find out the freqency of each element in the array and the element with the odd frequency will be the answer."
      ]
    },
    {
      "cell_type": "code",
      "execution_count": 1,
      "metadata": {
        "colab": {
          "base_uri": "https://localhost:8080/",
          "height": 641
        },
        "id": "r8RmjtKGUHPy",
        "outputId": "944bfe0d-109f-494e-8641-800946567e4c"
      },
      "outputs": [
        {
          "name": "stdout",
          "output_type": "stream",
          "text": [
            "2\n"
          ]
        }
      ],
      "source": [
        "import collections\n",
        "\n",
        "t = int(input())\n",
        "while t > 0:\n",
        "    n = int(input())\n",
        "    arr = []\n",
        "    for i in range(n):\n",
        "      arr.append(int(input()))\n",
        "    answer = collections.Counter(arr)\n",
        "    for (key, value) in answer.items():\n",
        "      if(value%2!=0):\n",
        "        print(key)\n",
        "    t = t-1"
      ]
    }
  ],
  "metadata": {
    "colab": {
      "collapsed_sections": [],
      "name": "CodeChef",
      "provenance": []
    },
    "kernelspec": {
      "display_name": "Python 3.10.2 64-bit",
      "language": "python",
      "name": "python3"
    },
    "language_info": {
      "codemirror_mode": {
        "name": "ipython",
        "version": 3
      },
      "file_extension": ".py",
      "mimetype": "text/x-python",
      "name": "python",
      "nbconvert_exporter": "python",
      "pygments_lexer": "ipython3",
      "version": "3.10.2"
    },
    "vscode": {
      "interpreter": {
        "hash": "07f73eaab75900a92fe1d8071dc2a2bd27f88b07124009e287e1a74d2e34ff0c"
      }
    }
  },
  "nbformat": 4,
  "nbformat_minor": 0
}
