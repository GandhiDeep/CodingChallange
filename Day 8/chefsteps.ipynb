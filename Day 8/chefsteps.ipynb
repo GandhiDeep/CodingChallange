{
  "nbformat": 4,
  "nbformat_minor": 0,
  "metadata": {
    "colab": {
      "name": "CodeChef",
      "provenance": [],
      "collapsed_sections": []
    },
    "kernelspec": {
      "name": "python3",
      "display_name": "Python 3"
    },
    "language_info": {
      "name": "python"
    }
  },
  "cells": [
    {
      "cell_type": "markdown",
      "source": [
        "https://www.codechef.com/submit/CHEFSTEP"
      ],
      "metadata": {
        "id": "OooPJKkk7zCO"
      }
    },
    {
      "cell_type": "code",
      "execution_count": 9,
      "metadata": {
        "id": "r8RmjtKGUHPy",
        "colab": {
          "base_uri": "https://localhost:8080/"
        },
        "outputId": "5a1f29a9-6c68-4b1f-f123-078b4bdea039"
      },
      "outputs": [
        {
          "output_type": "stream",
          "name": "stdout",
          "text": [
            "1\n",
            "5 3\n",
            "12 13 18 20 27216\n",
            "10101\n"
          ]
        }
      ],
      "source": [
        "t = int(input())\n",
        "while t > 0:\n",
        "  n,k = map(int, input().split(\" \"))\n",
        "  arr = list(map(int, input().split(\" \")))\n",
        "  ans = \"\"\n",
        "  for i in range(n):\n",
        "    if(arr[i]%k==0):\n",
        "      ans = ans + '1'\n",
        "    else:\n",
        "      ans = ans + '0'\n",
        "  print(ans)\n",
        "  t = t-1"
      ]
    }
  ]
}