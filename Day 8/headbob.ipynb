{
  "nbformat": 4,
  "nbformat_minor": 0,
  "metadata": {
    "colab": {
      "name": "CodeChef",
      "provenance": [],
      "collapsed_sections": []
    },
    "kernelspec": {
      "name": "python3",
      "display_name": "Python 3"
    },
    "language_info": {
      "name": "python"
    }
  },
  "cells": [
    {
      "cell_type": "markdown",
      "source": [
        "https://www.codechef.com/submit/HEADBOB"
      ],
      "metadata": {
        "id": "OooPJKkk7zCO"
      }
    },
    {
      "cell_type": "code",
      "execution_count": null,
      "metadata": {
        "id": "r8RmjtKGUHPy"
      },
      "outputs": [],
      "source": [
        "# cook your dish here\n",
        "t = int(input())\n",
        "while t > 0:\n",
        "    n = int(input())\n",
        "    s = input()\n",
        "    ind = 0\n",
        "    non = 0\n",
        "    sure = 0\n",
        "    for i in range(n):\n",
        "        if(s[i]=='I'):\n",
        "            ind = 1\n",
        "        elif(s[i]=='Y'):\n",
        "            non = 1\n",
        "    if(ind==1):\n",
        "        print(\"INDIAN\")\n",
        "    elif(non==1):\n",
        "        print(\"NOT INDIAN\")\n",
        "    else:\n",
        "        print(\"NOT SURE\")\n",
        "    t =t-1"
      ]
    }
  ]
}