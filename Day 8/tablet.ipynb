{
  "nbformat": 4,
  "nbformat_minor": 0,
  "metadata": {
    "colab": {
      "name": "CodeChef",
      "provenance": [],
      "collapsed_sections": []
    },
    "kernelspec": {
      "name": "python3",
      "display_name": "Python 3"
    },
    "language_info": {
      "name": "python"
    }
  },
  "cells": [
    {
      "cell_type": "markdown",
      "source": [
        "https://www.codechef.com/submit/TABLET"
      ],
      "metadata": {
        "id": "OooPJKkk7zCO"
      }
    },
    {
      "cell_type": "code",
      "execution_count": 6,
      "metadata": {
        "id": "r8RmjtKGUHPy",
        "colab": {
          "base_uri": "https://localhost:8080/"
        },
        "outputId": "fc23206b-1b41-440f-bd66-f367ed69a043"
      },
      "outputs": [
        {
          "output_type": "stream",
          "name": "stdout",
          "text": [
            "1\n",
            "2 6\n",
            "3 6 8\n",
            "5 4 9\n",
            "no tablet\n"
          ]
        }
      ],
      "source": [
        "t = int(input())\n",
        "while t > 0:\n",
        "  n,b = map(int, input().split(\" \"))\n",
        "  ans = []\n",
        "  for i in range(n):\n",
        "    w,h,p = map(int,input().split(\" \"))\n",
        "    if(p<=b):\n",
        "      ans.append(w*h)\n",
        "  if(len(ans)==0):\n",
        "    print(\"no tablet\")\n",
        "  else:\n",
        "    print(max(ans))\n",
        "  t =t-1"
      ]
    }
  ]
}