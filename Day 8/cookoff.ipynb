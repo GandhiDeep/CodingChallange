{
  "nbformat": 4,
  "nbformat_minor": 0,
  "metadata": {
    "colab": {
      "name": "CodeChef",
      "provenance": [],
      "collapsed_sections": []
    },
    "kernelspec": {
      "name": "python3",
      "display_name": "Python 3"
    },
    "language_info": {
      "name": "python"
    }
  },
  "cells": [
    {
      "cell_type": "markdown",
      "source": [
        "https://www.codechef.com/submit/C00K0FF"
      ],
      "metadata": {
        "id": "OooPJKkk7zCO"
      }
    },
    {
      "cell_type": "markdown",
      "source": [
        "Here we are making the list and then we are checking whether we have the term in our list or not. If all the required terms are present then the answer is yes otherwise the answer is no."
      ],
      "metadata": {
        "id": "W_uunquaej0r"
      }
    },
    {
      "cell_type": "code",
      "execution_count": null,
      "metadata": {
        "id": "r8RmjtKGUHPy"
      },
      "outputs": [],
      "source": [
        "t = int(input())\n",
        "while t > 0 :\n",
        "    n = int(input())\n",
        "    ans = []\n",
        "    for i in range(n):\n",
        "        ans.append(input())\n",
        "    if(('simple' in ans) and ('easy' in ans) and ('cakewalk' in ans) and ('easy-medium' in ans or 'medium' in ans) and ('hard' in ans or 'medium-hard' in ans)):\n",
        "      print(\"Yes\")\n",
        "    else:\n",
        "      print(\"No\")\n",
        "    t = t-1"
      ]
    }
  ]
}