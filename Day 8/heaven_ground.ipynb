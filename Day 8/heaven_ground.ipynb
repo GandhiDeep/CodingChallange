{
  "nbformat": 4,
  "nbformat_minor": 0,
  "metadata": {
    "colab": {
      "name": "CodeChef",
      "provenance": [],
      "collapsed_sections": []
    },
    "kernelspec": {
      "name": "python3",
      "display_name": "Python 3"
    },
    "language_info": {
      "name": "python"
    }
  },
  "cells": [
    {
      "cell_type": "markdown",
      "source": [
        "https://www.codechef.com/submit/ELEVSTRS"
      ],
      "metadata": {
        "id": "OooPJKkk7zCO"
      }
    },
    {
      "cell_type": "code",
      "execution_count": null,
      "metadata": {
        "id": "r8RmjtKGUHPy"
      },
      "outputs": [],
      "source": [
        "# cook your dish here\n",
        "import math\n",
        "t = int(input())\n",
        "while t > 0 :\n",
        "    n,v1,v2 = map(int, input().split(\" \"))\n",
        "    t1 = (math.sqrt(2)*n)/v1\n",
        "    t2 = 2*n/v2\n",
        "    if(t1<t2):\n",
        "        print(\"Stairs\")\n",
        "    else:\n",
        "        print(\"Elevator\")\n",
        "    t = t-1"
      ]
    }
  ]
}