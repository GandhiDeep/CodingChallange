{
  "nbformat": 4,
  "nbformat_minor": 0,
  "metadata": {
    "colab": {
      "name": "CodeChef",
      "provenance": [],
      "collapsed_sections": []
    },
    "kernelspec": {
      "name": "python3",
      "display_name": "Python 3"
    },
    "language_info": {
      "name": "python"
    }
  },
  "cells": [
    {
      "cell_type": "markdown",
      "source": [
        "https://www.codechef.com/submit/CHEFWORK"
      ],
      "metadata": {
        "id": "OooPJKkk7zCO"
      }
    },
    {
      "cell_type": "markdown",
      "source": [
        "Here we are first of all seperating one array into three different array of same type. Then we are checking if the length is zero then we will take the different array for the answer. "
      ],
      "metadata": {
        "id": "W_uunquaej0r"
      }
    },
    {
      "cell_type": "code",
      "execution_count": null,
      "metadata": {
        "id": "r8RmjtKGUHPy"
      },
      "outputs": [],
      "source": [
        "# cook your dish here\n",
        "n = int(input())\n",
        "coin = list(map(int , input().split(\" \")))\n",
        "ty = list(map(int , input().split(\" \")))\n",
        "auth = []\n",
        "tra = []\n",
        "both = []\n",
        "for i in range(n):\n",
        "    if(ty[i]==1):\n",
        "        auth.append(coin[i])\n",
        "    elif(ty[i]==2):\n",
        "        tra.append(coin[i])\n",
        "    else:\n",
        "        both.append(coin[i])\n",
        "if(len(auth)==0 or len(tra)==0):\n",
        "    print(min(both))\n",
        "elif(len(both)==0):\n",
        "    print(min(auth)+min(tra))\n",
        "else:\n",
        "    print(min(min(auth)+min(tra),min(both)))\n",
        "    \n",
        "        "
      ]
    }
  ]
}