{
  "nbformat": 4,
  "nbformat_minor": 0,
  "metadata": {
    "colab": {
      "name": "CodeChef",
      "provenance": [],
      "collapsed_sections": []
    },
    "kernelspec": {
      "name": "python3",
      "display_name": "Python 3"
    },
    "language_info": {
      "name": "python"
    }
  },
  "cells": [
    {
      "cell_type": "markdown",
      "source": [
        "https://www.codechef.com/submit/SUBTASK"
      ],
      "metadata": {
        "id": "OooPJKkk7zCO"
      }
    },
    {
      "cell_type": "markdown",
      "source": [
        "In this first we are checking whether there is a 0 in the list or not if the 0 is not in the list then we are giving full marks which are 100.\n",
        "\n",
        "Then in the else part we are checking whether there is a 0 or not in the subpart of our binary list which has size m cause we need to pass the **first** m cases. If we find 0 in that then we will print 0 otherwise k."
      ],
      "metadata": {
        "id": "1htk32O2GjOH"
      }
    },
    {
      "cell_type": "code",
      "execution_count": 15,
      "metadata": {
        "id": "r8RmjtKGUHPy",
        "colab": {
          "base_uri": "https://localhost:8080/"
        },
        "outputId": "b4db5a66-5fe2-495f-9191-3ac0edba6828"
      },
      "outputs": [
        {
          "output_type": "stream",
          "name": "stdout",
          "text": [
            "3 2 50\n",
            "1 1 0\n",
            "50\n"
          ]
        }
      ],
      "source": [
        "# cook your dish here\n",
        "t = int(input())\n",
        "while t > 0:\n",
        "    n,m,k = map(int, input().split(\" \"))\n",
        "    a = list(map(int, input().split(\" \")))\n",
        "    if 0 not in a:\n",
        "      print(100)\n",
        "    else:\n",
        "      a = a[:m]\n",
        "      if 0 in a:\n",
        "        print(0)\n",
        "      else:\n",
        "        print(k)\n",
        "    t = t-1"
      ]
    }
  ]
}