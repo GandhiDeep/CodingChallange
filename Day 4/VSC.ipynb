{
  "nbformat": 4,
  "nbformat_minor": 0,
  "metadata": {
    "colab": {
      "name": "CodeChef",
      "provenance": [],
      "collapsed_sections": []
    },
    "kernelspec": {
      "name": "python3",
      "display_name": "Python 3"
    },
    "language_info": {
      "name": "python"
    }
  },
  "cells": [
    {
      "cell_type": "markdown",
      "source": [
        "https://www.codechef.com/submit/VCS?tab=statement"
      ],
      "metadata": {
        "id": "OooPJKkk7zCO"
      }
    },
    {
      "cell_type": "markdown",
      "source": [
        "We are just making the list of untracked and unignored files then we are comparing the list of tracked and ignored file which we have and making a new file with the common elements of that. We are doing the same for the untracked and unignored. \n",
        "\n",
        "Finally printing the length of the list which has common elements from the untracked and unignored list and tracked and ignored list."
      ],
      "metadata": {
        "id": "1htk32O2GjOH"
      }
    },
    {
      "cell_type": "code",
      "execution_count": null,
      "metadata": {
        "id": "r8RmjtKGUHPy"
      },
      "outputs": [],
      "source": [
        "# cook your dish here\n",
        "t = int(input())\n",
        "while t > 0:\n",
        "    n,m,k = map(int, input().split(\" \"))\n",
        "    source = list(range(1,n+1))\n",
        "    ignored = list(map(int, input().split(\" \")))\n",
        "    tracked = list(map(int, input().split(\" \")))\n",
        "    unignored = []\n",
        "    untracked = []\n",
        "    for i in range(n):\n",
        "      if(source[i] not in ignored):\n",
        "        unignored.append(source[i])\n",
        "      if(source[i] not in tracked):\n",
        "        untracked.append(source[i])\n",
        "    ig_tra = set(ignored).intersection(tracked)\n",
        "    un_un =set(unignored).intersection(untracked)\n",
        "    print(len(ig_tra),\" \",len(un_un))\n",
        "    t = t-1\n"
      ]
    }
  ]
}