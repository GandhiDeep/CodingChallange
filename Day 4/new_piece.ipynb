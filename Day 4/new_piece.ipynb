{
  "nbformat": 4,
  "nbformat_minor": 0,
  "metadata": {
    "colab": {
      "name": "CodeChef",
      "provenance": [],
      "collapsed_sections": []
    },
    "kernelspec": {
      "name": "python3",
      "display_name": "Python 3"
    },
    "language_info": {
      "name": "python"
    }
  },
  "cells": [
    {
      "cell_type": "markdown",
      "source": [
        "https://www.codechef.com/submit/NEWPIECE"
      ],
      "metadata": {
        "id": "OooPJKkk7zCO"
      }
    },
    {
      "cell_type": "markdown",
      "source": [
        "As the piece can move enaywhere it will take maximum 2 steps if the color of the source and destination tiles are same, otherwise 1 and 0 if the position of the destination and the source is same."
      ],
      "metadata": {
        "id": "1htk32O2GjOH"
      }
    },
    {
      "cell_type": "code",
      "execution_count": null,
      "metadata": {
        "id": "r8RmjtKGUHPy"
      },
      "outputs": [],
      "source": [
        "# cook your dish here\n",
        "t = int(input())\n",
        "while t > 0 :\n",
        "    a,b,p,q = map(int, input().split(\" \"))\n",
        "    if(a==p and b==q):\n",
        "        print(0)\n",
        "    elif(((a+b)%2==0 and (p+q)%2==0) or ((a+b)%2!=0 and (p+q)%2!=0)):\n",
        "        print(2)\n",
        "    else:\n",
        "        print(1)\n",
        "    t = t-1"
      ]
    }
  ]
}