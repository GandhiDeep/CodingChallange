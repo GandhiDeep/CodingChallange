{
  "nbformat": 4,
  "nbformat_minor": 0,
  "metadata": {
    "colab": {
      "name": "CodeChef",
      "provenance": [],
      "collapsed_sections": []
    },
    "kernelspec": {
      "name": "python3",
      "display_name": "Python 3"
    },
    "language_info": {
      "name": "python"
    }
  },
  "cells": [
    {
      "cell_type": "markdown",
      "source": [
        "https://www.codechef.com/submit/S02E10"
      ],
      "metadata": {
        "id": "d8B2SdYGjEU-"
      }
    },
    {
      "cell_type": "code",
      "execution_count": 4,
      "metadata": {
        "id": "r8RmjtKGUHPy",
        "colab": {
          "base_uri": "https://localhost:8080/"
        },
        "outputId": "599c37df-22cd-4dc5-8cb9-bb41101c3be8"
      },
      "outputs": [
        {
          "output_type": "stream",
          "name": "stdout",
          "text": [
            "{1, 2, 3, 4, 5}\n",
            "Yes\n"
          ]
        }
      ],
      "source": [
        "# cook your dish here\n",
        "t = int(input())\n",
        "while t > 0:\n",
        "    n,x,k = map(int, input().split())\n",
        "    ross = list(map(int, input().split()))\n",
        "    russ = list(map(int,input().split()))\n",
        "    count = 0\n",
        "    i = 0\n",
        "    while count < x and i < n:\n",
        "        if(abs(ross[i]-russ[i]) <= k):\n",
        "            count = count + 1 \n",
        "            i = i+1\n",
        "        else:\n",
        "            i = i+1\n",
        "    if(count == x):\n",
        "        print(\"Yes\")\n",
        "    else:\n",
        "        print(\"No\")\n",
        "    t = t-1"
      ]
    }
  ]
}