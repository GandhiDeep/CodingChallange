{
  "nbformat": 4,
  "nbformat_minor": 0,
  "metadata": {
    "colab": {
      "name": "CodeChef",
      "provenance": [],
      "collapsed_sections": []
    },
    "kernelspec": {
      "name": "python3",
      "display_name": "Python 3"
    },
    "language_info": {
      "name": "python"
    }
  },
  "cells": [
    {
      "cell_type": "markdown",
      "source": [
        "https://leetcode.com/problems/binary-search/submissions/"
      ],
      "metadata": {
        "id": "d8B2SdYGjEU-"
      }
    },
    {
      "cell_type": "code",
      "execution_count": null,
      "metadata": {
        "id": "r8RmjtKGUHPy"
      },
      "outputs": [],
      "source": [
        "class Solution:\n",
        "    def search(self, nums: List[int], target: int) -> int:\n",
        "        left, right = 0, len(nums) - 1\n",
        "        while left <= right:\n",
        "            pivot = left + (right - left) // 2\n",
        "            if nums[pivot] == target:\n",
        "                return pivot\n",
        "            if target < nums[pivot]:\n",
        "                right = pivot - 1\n",
        "            else:\n",
        "                left = pivot + 1\n",
        "        return -1    \n",
        "            \n",
        "        "
      ]
    }
  ]
}