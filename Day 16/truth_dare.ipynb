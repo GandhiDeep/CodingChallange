{
  "nbformat": 4,
  "nbformat_minor": 0,
  "metadata": {
    "colab": {
      "name": "CodeChef",
      "provenance": [],
      "collapsed_sections": []
    },
    "kernelspec": {
      "name": "python3",
      "display_name": "Python 3"
    },
    "language_info": {
      "name": "python"
    }
  },
  "cells": [
    {
      "cell_type": "markdown",
      "source": [
        "https://www.codechef.com/submit/TRUEDARE"
      ],
      "metadata": {
        "id": "d8B2SdYGjEU-"
      }
    },
    {
      "cell_type": "code",
      "execution_count": 4,
      "metadata": {
        "id": "r8RmjtKGUHPy",
        "colab": {
          "base_uri": "https://localhost:8080/"
        },
        "outputId": "599c37df-22cd-4dc5-8cb9-bb41101c3be8"
      },
      "outputs": [
        {
          "output_type": "stream",
          "name": "stdout",
          "text": [
            "{1, 2, 3, 4, 5}\n",
            "Yes\n"
          ]
        }
      ],
      "source": [
        "# cook your dish here\n",
        "t = int(input())\n",
        "while t > 0:\n",
        "    Rtn = int(input())\n",
        "    ram_truth = list(map(int, input().split()))\n",
        "    Rdn = int(input())\n",
        "    ram_dare = list(map(int, input().split()))\n",
        "    Stn = int(input())\n",
        "    sham_truth = list(map(int, input().split()))\n",
        "    Sdn = int(input())\n",
        "    sham_dare = list(map(int, input().split()))\n",
        "    \n",
        "    ans1 = set(ram_truth).intersection(sham_truth)\n",
        "    ans2 = set(ram_dare).intersection(sham_dare)\n",
        "    \n",
        "    if(ans1 == set(sham_truth) and ans2==set(sham_dare)):\n",
        "        print(\"yes\")\n",
        "    else:\n",
        "        print(\"no\")\n",
        "    t= t-1"
      ]
    }
  ]
}