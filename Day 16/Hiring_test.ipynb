{
  "nbformat": 4,
  "nbformat_minor": 0,
  "metadata": {
    "colab": {
      "name": "CodeChef",
      "provenance": [],
      "collapsed_sections": []
    },
    "kernelspec": {
      "name": "python3",
      "display_name": "Python 3"
    },
    "language_info": {
      "name": "python"
    }
  },
  "cells": [
    {
      "cell_type": "markdown",
      "source": [
        "https://www.codechef.com/submit/HIRETEST"
      ],
      "metadata": {
        "id": "d8B2SdYGjEU-"
      }
    },
    {
      "cell_type": "code",
      "execution_count": null,
      "metadata": {
        "id": "r8RmjtKGUHPy"
      },
      "outputs": [],
      "source": [
        "# cook your dish here\n",
        "t = int(input())\n",
        "while t > 0 :\n",
        "    n,m = map(int, input().split())\n",
        "    x,y = map(int, input().split())\n",
        "    ans = \"\"\n",
        "    for i in range(n):\n",
        "        s = list(input())\n",
        "        n1 = s.count('F')\n",
        "        n2 = s.count('P')\n",
        "        if(n1 >= x or (n1 == (x-1)  and n2 >= y)):\n",
        "            ans = ans  + '1'\n",
        "        else:\n",
        "            ans = ans + '0'\n",
        "    print(ans)\n",
        "    t = t-1"
      ]
    }
  ]
}