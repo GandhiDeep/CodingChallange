{
  "nbformat": 4,
  "nbformat_minor": 0,
  "metadata": {
    "colab": {
      "name": "CodeChef",
      "provenance": [],
      "collapsed_sections": []
    },
    "kernelspec": {
      "name": "python3",
      "display_name": "Python 3"
    },
    "language_info": {
      "name": "python"
    }
  },
  "cells": [
    {
      "cell_type": "markdown",
      "source": [
        "https://leetcode.com/problems/decrypt-string-from-alphabet-to-integer-mapping/submissions/"
      ],
      "metadata": {
        "id": "d8B2SdYGjEU-"
      }
    },
    {
      "cell_type": "code",
      "execution_count": null,
      "metadata": {
        "id": "r8RmjtKGUHPy"
      },
      "outputs": [],
      "source": [
        "class Solution:\n",
        "    def freqAlphabets(self, s: str) -> str:\n",
        "        hashed = {\n",
        "            \"10#\": \"j\",\n",
        "            \"11#\": \"k\",\n",
        "            \"12#\": \"l\",\n",
        "            \"13#\": \"m\",\n",
        "            \"14#\": \"n\",\n",
        "            \"15#\": \"o\",\n",
        "            \"16#\": \"p\",\n",
        "            \"17#\": \"q\",\n",
        "            \"18#\": \"r\",\n",
        "            \"19#\": \"s\",\n",
        "            \"20#\": \"t\",\n",
        "            \"21#\": \"u\",\n",
        "            \"22#\": \"v\",\n",
        "            \"23#\": \"w\",\n",
        "            \"24#\": \"x\",\n",
        "            \"25#\": \"y\",\n",
        "            \"26#\": \"z\",\n",
        "        }\n",
        "\n",
        "        Unhashed = {\n",
        "            \"1\": \"a\",\n",
        "            \"2\": \"b\",\n",
        "            \"3\": \"c\",\n",
        "            \"4\": \"d\",\n",
        "            \"5\": \"e\",\n",
        "            \"6\": \"f\",\n",
        "            \"7\": \"g\",\n",
        "            \"8\": \"h\",\n",
        "            \"9\": \"i\",\n",
        "        }\n",
        "        \n",
        "        # for hashed digits i.e. len==3 (from j---->z)\n",
        "        for encode, decode in hashed.items():\n",
        "            s = s.replace(encode, decode)\n",
        "            \n",
        "        # for unhashed digits i.e. len==1 (from a---->i)\n",
        "        for encode, decode in Unhashed.items():\n",
        "            s = s.replace(encode, decode)\n",
        "        return(s)\n",
        "        "
      ]
    }
  ]
}