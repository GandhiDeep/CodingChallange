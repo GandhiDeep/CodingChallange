{
  "nbformat": 4,
  "nbformat_minor": 0,
  "metadata": {
    "colab": {
      "name": "CodeChef",
      "provenance": [],
      "collapsed_sections": []
    },
    "kernelspec": {
      "name": "python3",
      "display_name": "Python 3"
    },
    "language_info": {
      "name": "python"
    }
  },
  "cells": [
    {
      "cell_type": "markdown",
      "source": [
        "https://leetcode.com/problems/verifying-an-alien-dictionary/submissions/"
      ],
      "metadata": {
        "id": "d8B2SdYGjEU-"
      }
    },
    {
      "cell_type": "code",
      "execution_count": null,
      "metadata": {
        "id": "r8RmjtKGUHPy"
      },
      "outputs": [],
      "source": [
        "class Solution:\n",
        "    def isAlienSorted(self, words: List[str], order: str) -> bool:\n",
        "        order_map = {}\n",
        "        for index, val in enumerate(order):\n",
        "            order_map[val] = index\n",
        "\n",
        "        for i in range(len(words) - 1):\n",
        "\n",
        "            for j in range(len(words[i])):\n",
        "                # If we do not find a mismatch letter between words[i] and words[i + 1],\n",
        "                # we need to examine the case when words are like (\"apple\", \"app\").\n",
        "                if j >= len(words[i + 1]): return False\n",
        "\n",
        "                if words[i][j] != words[i + 1][j]:\n",
        "                    if order_map[words[i][j]] > order_map[words[i + 1][j]]: return False\n",
        "                    # if we find the first different character and they are sorted,\n",
        "                    # then there's no need to check remaining letters\n",
        "                    break\n",
        "\n",
        "        return True"
      ]
    }
  ]
}