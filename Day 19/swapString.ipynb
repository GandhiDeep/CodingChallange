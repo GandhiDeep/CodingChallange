{
  "nbformat": 4,
  "nbformat_minor": 0,
  "metadata": {
    "colab": {
      "name": "CodeChef",
      "provenance": [],
      "collapsed_sections": []
    },
    "kernelspec": {
      "name": "python3",
      "display_name": "Python 3"
    },
    "language_info": {
      "name": "python"
    }
  },
  "cells": [
    {
      "cell_type": "markdown",
      "source": [
        "https://leetcode.com/problems/check-if-one-string-swap-can-make-strings-equal/submissions/"
      ],
      "metadata": {
        "id": "d8B2SdYGjEU-"
      }
    },
    {
      "cell_type": "code",
      "execution_count": null,
      "metadata": {
        "id": "r8RmjtKGUHPy"
      },
      "outputs": [],
      "source": [
        "class Solution:\n",
        "    def areAlmostEqual(self, s1: str, s2: str) -> bool:\n",
        "        flag1=False\n",
        "        flag2=False\n",
        "        for i in range(len(s1)):\n",
        "            if s1[i]!=s2[i]:\n",
        "                if flag2:\n",
        "                    return False\n",
        "                if flag1:\n",
        "                    if s1[i]==swapS2 and s2[i]==swapS1:\n",
        "                        flag2=True\n",
        "                    else:\n",
        "                        return False               \n",
        "                else:\n",
        "                    swapS1=s1[i]\n",
        "                    swapS2=s2[i]\n",
        "                    flag1=True\n",
        "        if flag1 and not flag2:\n",
        "            return False\n",
        "        return True"
      ]
    }
  ]
}