{
  "nbformat": 4,
  "nbformat_minor": 0,
  "metadata": {
    "colab": {
      "name": "CodeChef",
      "provenance": [],
      "collapsed_sections": []
    },
    "kernelspec": {
      "name": "python3",
      "display_name": "Python 3"
    },
    "language_info": {
      "name": "python"
    }
  },
  "cells": [
    {
      "cell_type": "markdown",
      "source": [
        "https://leetcode.com/problems/can-make-arithmetic-progression-from-sequence/submissions/"
      ],
      "metadata": {
        "id": "d8B2SdYGjEU-"
      }
    },
    {
      "cell_type": "code",
      "execution_count": null,
      "metadata": {
        "id": "r8RmjtKGUHPy",
        "colab": {
          "base_uri": "https://localhost:8080/"
        },
        "outputId": "f9abb8cb-be83-459a-906b-2dc86d70818d"
      },
      "outputs": [
        {
          "output_type": "stream",
          "name": "stdout",
          "text": [
            "[4, 3, 2, 1]\n"
          ]
        }
      ],
      "source": [
        "class Solution:\n",
        "    def canMakeArithmeticProgression(self, arr: List[int]) -> bool:\n",
        "        arr.sort()\n",
        "        flag = 0\n",
        "        diff = arr[0] - arr[1]\n",
        "        for i in range(1,len(arr)-1):\n",
        "            if(arr[i]-arr[i+1]!=diff):\n",
        "                flag = 1\n",
        "        if(flag==1):\n",
        "            return False\n",
        "        else:\n",
        "            return True\n",
        "        "
      ]
    }
  ]
}