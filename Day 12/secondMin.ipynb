{
  "nbformat": 4,
  "nbformat_minor": 0,
  "metadata": {
    "colab": {
      "name": "CodeChef",
      "provenance": [],
      "collapsed_sections": []
    },
    "kernelspec": {
      "name": "python3",
      "display_name": "Python 3"
    },
    "language_info": {
      "name": "python"
    }
  },
  "cells": [
    {
      "cell_type": "markdown",
      "source": [
        "https://www.codechef.com/CCSTART2/problems/SECLAR?tab=submissions"
      ],
      "metadata": {
        "id": "OooPJKkk7zCO"
      }
    },
    {
      "cell_type": "code",
      "execution_count": 10,
      "metadata": {
        "id": "r8RmjtKGUHPy",
        "colab": {
          "base_uri": "https://localhost:8080/"
        },
        "outputId": "6fb0e9c6-2cab-466a-ab5a-7a3ce1dbf4ae"
      },
      "outputs": [
        {
          "output_type": "stream",
          "name": "stdout",
          "text": [
            "2\n",
            "7\n",
            "21\n",
            "7\n"
          ]
        }
      ],
      "source": [
        "# cook your dish here\n",
        "a = int(input())\n",
        "b = int(input())\n",
        "c = int(input())\n",
        "arr = [a,b,c]\n",
        "arr.sort()\n",
        "print(arr[1])"
      ]
    }
  ]
}