{
  "nbformat": 4,
  "nbformat_minor": 0,
  "metadata": {
    "colab": {
      "name": "CodeChef",
      "provenance": [],
      "collapsed_sections": []
    },
    "kernelspec": {
      "name": "python3",
      "display_name": "Python 3"
    },
    "language_info": {
      "name": "python"
    }
  },
  "cells": [
    {
      "cell_type": "markdown",
      "source": [
        "https://www.codechef.com/CCSTART2/problems/DIFACTRS"
      ],
      "metadata": {
        "id": "OooPJKkk7zCO"
      }
    },
    {
      "cell_type": "code",
      "execution_count": 8,
      "metadata": {
        "id": "r8RmjtKGUHPy",
        "colab": {
          "base_uri": "https://localhost:8080/"
        },
        "outputId": "6705f8cd-a0d1-489a-8725-e160d730598b"
      },
      "outputs": [
        {
          "output_type": "stream",
          "name": "stdout",
          "text": [
            "6\n",
            "4\n",
            "1 2 3 6 \n"
          ]
        }
      ],
      "source": [
        "# cook your dish here\n",
        "n = int(input())\n",
        "count = 0\n",
        "ans = \"\"\n",
        "for i in range(1,n+1):\n",
        "    if(n%i==0):\n",
        "        count = count + 1\n",
        "        ans = ans + str(i) + \" \"\n",
        "print(count)\n",
        "print(ans)"
      ]
    }
  ]
}