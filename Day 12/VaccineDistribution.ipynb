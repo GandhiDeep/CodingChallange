{
  "nbformat": 4,
  "nbformat_minor": 0,
  "metadata": {
    "colab": {
      "name": "CodeChef",
      "provenance": [],
      "collapsed_sections": []
    },
    "kernelspec": {
      "name": "python3",
      "display_name": "Python 3"
    },
    "language_info": {
      "name": "python"
    }
  },
  "cells": [
    {
      "cell_type": "markdown",
      "source": [
        "https://www.codechef.com/submit/VACCINE2"
      ],
      "metadata": {
        "id": "d8B2SdYGjEU-"
      }
    },
    {
      "cell_type": "code",
      "execution_count": null,
      "metadata": {
        "id": "r8RmjtKGUHPy"
      },
      "outputs": [],
      "source": [
        "# cook your dish here\n",
        "t = int(input())\n",
        "while t > 0:\n",
        "    n,d = map(int, input().split(\" \"))\n",
        "    arr = list(map(int, input().split(\" \")))\n",
        "    risk = 0\n",
        "    non = 0\n",
        "    for i in range(n):\n",
        "        if(arr[i]>=80 or arr[i]<=9):\n",
        "            risk  = risk +1\n",
        "        else:\n",
        "            non = non + 1\n",
        "    if(risk%d==0 and non%d==0):\n",
        "        print(int(risk/d) + int(non/d))\n",
        "    elif(risk%d==0 and non%d!=0):\n",
        "        print(int(risk/d) + (int(non/d)+1))\n",
        "    elif(risk%d!=0 and non%d==0):\n",
        "        print((int(risk/d)+1) + int(non/d))\n",
        "    else:\n",
        "        print(int(risk/d)+1+1+ int(non/d))\n",
        "    \n",
        "    t = t-1"
      ]
    }
  ]
}