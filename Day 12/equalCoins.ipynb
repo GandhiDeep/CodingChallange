{
  "nbformat": 4,
  "nbformat_minor": 0,
  "metadata": {
    "colab": {
      "name": "CodeChef",
      "provenance": [],
      "collapsed_sections": []
    },
    "kernelspec": {
      "name": "python3",
      "display_name": "Python 3"
    },
    "language_info": {
      "name": "python"
    }
  },
  "cells": [
    {
      "cell_type": "markdown",
      "source": [
        "https://www.codechef.com/submit/EQUALCOIN?tab=submissions"
      ],
      "metadata": {
        "id": "d8B2SdYGjEU-"
      }
    },
    {
      "cell_type": "code",
      "execution_count": 25,
      "metadata": {
        "id": "r8RmjtKGUHPy",
        "colab": {
          "base_uri": "https://localhost:8080/"
        },
        "outputId": "5a9c9662-31f2-49a3-87d8-908bfc4e1d0b"
      },
      "outputs": [
        {
          "output_type": "stream",
          "name": "stdout",
          "text": [
            "1\n",
            "0 2\n",
            "Yes\n"
          ]
        }
      ],
      "source": [
        "# cook your dish here\n",
        "T=int(input())\n",
        "for i in range(T):\n",
        "    x,y=map(int,input().split())\n",
        "    if(x==0):\n",
        "        if(y%2==0):\n",
        "            print(\"yes\")\n",
        "        else:\n",
        "            print(\"no\")\n",
        "    else:\n",
        "        if(x%2==0):\n",
        "            print(\"yes\")\n",
        "        else:\n",
        "            print(\"no\")"
      ]
    }
  ]
}