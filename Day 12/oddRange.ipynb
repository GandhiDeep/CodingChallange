{
  "nbformat": 4,
  "nbformat_minor": 0,
  "metadata": {
    "colab": {
      "name": "CodeChef",
      "provenance": [],
      "collapsed_sections": []
    },
    "kernelspec": {
      "name": "python3",
      "display_name": "Python 3"
    },
    "language_info": {
      "name": "python"
    }
  },
  "cells": [
    {
      "cell_type": "markdown",
      "source": [
        "https://www.codechef.com/CCSTART2/problems/RNGEODD"
      ],
      "metadata": {
        "id": "OooPJKkk7zCO"
      }
    },
    {
      "cell_type": "code",
      "execution_count": 12,
      "metadata": {
        "id": "r8RmjtKGUHPy",
        "colab": {
          "base_uri": "https://localhost:8080/"
        },
        "outputId": "fdb228b6-b688-47aa-9576-54a10d1f6f2f"
      },
      "outputs": [
        {
          "output_type": "stream",
          "name": "stdout",
          "text": [
            "2 4\n",
            "3 \n"
          ]
        }
      ],
      "source": [
        "# cook your dish here\n",
        "l,r = map(int, input().split(\" \"))\n",
        "ans = \"\"\n",
        "for i in range(l,r+1):\n",
        "    if(i%2!=0):\n",
        "        ans = ans + str(i) + \" \"\n",
        "print(ans)"
      ]
    }
  ]
}