{
  "nbformat": 4,
  "nbformat_minor": 0,
  "metadata": {
    "colab": {
      "name": "CodeChef",
      "provenance": [],
      "collapsed_sections": []
    },
    "kernelspec": {
      "name": "python3",
      "display_name": "Python 3"
    },
    "language_info": {
      "name": "python"
    }
  },
  "cells": [
    {
      "cell_type": "markdown",
      "source": [
        "https://www.codechef.com/CCSTART2/problems/ISBOTH"
      ],
      "metadata": {
        "id": "OooPJKkk7zCO"
      }
    },
    {
      "cell_type": "code",
      "execution_count": 5,
      "metadata": {
        "id": "r8RmjtKGUHPy",
        "colab": {
          "base_uri": "https://localhost:8080/"
        },
        "outputId": "4919e595-85f0-4809-8d51-7912854d30c2"
      },
      "outputs": [
        {
          "output_type": "stream",
          "name": "stdout",
          "text": [
            "16\n",
            "NONE\n"
          ]
        }
      ],
      "source": [
        "n = int(input())\n",
        "if(n%5!=0 and n%11!=0):\n",
        "    print(\"NONE\")\n",
        "elif(n%55==0):\n",
        "    print(\"BOTH\")\n",
        "else:\n",
        "    print('ONE')"
      ]
    }
  ]
}