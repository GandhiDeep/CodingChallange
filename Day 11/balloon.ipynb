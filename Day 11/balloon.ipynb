{
  "nbformat": 4,
  "nbformat_minor": 0,
  "metadata": {
    "colab": {
      "name": "CodeChef",
      "provenance": [],
      "collapsed_sections": []
    },
    "kernelspec": {
      "name": "python3",
      "display_name": "Python 3"
    },
    "language_info": {
      "name": "python"
    }
  },
  "cells": [
    {
      "cell_type": "markdown",
      "source": [
        "https://www.codechef.com/submit/BALLOON?tab=statement"
      ],
      "metadata": {
        "id": "OooPJKkk7zCO"
      }
    },
    {
      "cell_type": "code",
      "execution_count": null,
      "metadata": {
        "id": "r8RmjtKGUHPy"
      },
      "outputs": [],
      "source": [
        "# cook your dish here\n",
        "t = int(input())\n",
        "while t > 0:\n",
        "    n = int(input())\n",
        "    arr = list(map(int, input().split(\" \")))\n",
        "    ans = 0\n",
        "    count = 0\n",
        "    for i in range(len(arr)):\n",
        "        if(arr[i]<8):\n",
        "            ans += 1 \n",
        "            count += 1\n",
        "        else:\n",
        "            ans = ans +1\n",
        "        if(count==7):\n",
        "            break\n",
        "    print(ans)\n",
        "    t = t-1"
      ]
    }
  ]
}