{
  "nbformat": 4,
  "nbformat_minor": 0,
  "metadata": {
    "colab": {
      "name": "CodeChef",
      "provenance": [],
      "collapsed_sections": []
    },
    "kernelspec": {
      "name": "python3",
      "display_name": "Python 3"
    },
    "language_info": {
      "name": "python"
    }
  },
  "cells": [
    {
      "cell_type": "markdown",
      "source": [
        "https://www.codechef.com/submit/IPCCERT"
      ],
      "metadata": {
        "id": "OooPJKkk7zCO"
      }
    },
    {
      "cell_type": "code",
      "execution_count": null,
      "metadata": {
        "id": "r8RmjtKGUHPy"
      },
      "outputs": [],
      "source": [
        "# cook your dish here\n",
        "n,m,k =map(int, input().split(\" \"))\n",
        "count = 0\n",
        "for i in range(n):\n",
        "    arr = list(map(int, input().split(\" \")))\n",
        "    a1 = sum(arr) - arr[-1]\n",
        "    if(a1 >= m and arr[-1]<=10):\n",
        "        count = count +1\n",
        "print(count)"
      ]
    }
  ]
}