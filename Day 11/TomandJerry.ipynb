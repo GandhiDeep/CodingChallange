{
  "nbformat": 4,
  "nbformat_minor": 0,
  "metadata": {
    "colab": {
      "name": "CodeChef",
      "provenance": [],
      "collapsed_sections": []
    },
    "kernelspec": {
      "name": "python3",
      "display_name": "Python 3"
    },
    "language_info": {
      "name": "python"
    }
  },
  "cells": [
    {
      "cell_type": "markdown",
      "source": [
        "https://www.codechef.com/submit/TANDJ1?tab=statement"
      ],
      "metadata": {
        "id": "OooPJKkk7zCO"
      }
    },
    {
      "cell_type": "code",
      "execution_count": null,
      "metadata": {
        "id": "r8RmjtKGUHPy"
      },
      "outputs": [],
      "source": [
        "# cook your dish here\n",
        "t = int(input())\n",
        "while t > 0:\n",
        "    a,b,c,d,k = map(int, input().split(\" \"))\n",
        "    dis = abs(a-c) + abs(b-d)\n",
        "    x = k-dis\n",
        "    if(k>=dis and x%2==0):\n",
        "        print(\"Yes\")\n",
        "    else:\n",
        "        print(\"No\")\n",
        "    t =t-1"
      ]
    }
  ]
}