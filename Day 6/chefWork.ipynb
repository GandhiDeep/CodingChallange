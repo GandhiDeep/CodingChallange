{
  "nbformat": 4,
  "nbformat_minor": 0,
  "metadata": {
    "colab": {
      "name": "CodeChef",
      "provenance": [],
      "collapsed_sections": []
    },
    "kernelspec": {
      "name": "python3",
      "display_name": "Python 3"
    },
    "language_info": {
      "name": "python"
    }
  },
  "cells": [
    {
      "cell_type": "markdown",
      "source": [
        "https://www.codechef.com/submit/CHEFNWRK?tab=statement"
      ],
      "metadata": {
        "id": "OooPJKkk7zCO"
      }
    },
    {
      "cell_type": "markdown",
      "source": [
        "Explanation is in the explain part of the problem. "
      ],
      "metadata": {
        "id": "X_oEl2svVCQC"
      }
    },
    {
      "cell_type": "code",
      "execution_count": 3,
      "metadata": {
        "id": "r8RmjtKGUHPy",
        "colab": {
          "base_uri": "https://localhost:8080/"
        },
        "outputId": "c5fe2b9f-8cee-4a2c-e8d9-52ed7c2d26b5"
      },
      "outputs": [
        {
          "output_type": "stream",
          "name": "stdout",
          "text": [
            "4\n",
            "1 1\n",
            "2\n",
            "-1\n",
            "2 4\n",
            "1 1\n",
            "1\n",
            "3 6\n",
            "3 4 2\n",
            "2\n",
            "3 6\n",
            "3 4 3\n",
            "3\n"
          ]
        }
      ],
      "source": [
        "t = int(input())\n",
        "while t > 0:\n",
        "    n,k = map(int, input().split(\" \"))\n",
        "    arr = list(map(int, input().split(\" \")))\n",
        "    ans = max(arr)\n",
        "    if(ans > k):\n",
        "        print(-1)\n",
        "    else:\n",
        "      trip = 0\n",
        "      i = 0\n",
        "      while i in range(n):\n",
        "          pickup = 0\n",
        "          trip = trip + 1\n",
        "          while((i<n) and (arr[i]+pickup <= k)):\n",
        "              pickup = pickup + arr[i]\n",
        "              i = i+1\n",
        "      print(trip)\n",
        "    t = t-1"
      ]
    }
  ]
}