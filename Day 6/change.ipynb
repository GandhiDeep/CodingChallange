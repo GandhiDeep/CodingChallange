{
  "nbformat": 4,
  "nbformat_minor": 0,
  "metadata": {
    "colab": {
      "name": "CodeChef",
      "provenance": [],
      "collapsed_sections": []
    },
    "kernelspec": {
      "name": "python3",
      "display_name": "Python 3"
    },
    "language_info": {
      "name": "python"
    }
  },
  "cells": [
    {
      "cell_type": "markdown",
      "source": [
        "https://www.codechef.com/submit/CHNGIT"
      ],
      "metadata": {
        "id": "OooPJKkk7zCO"
      }
    },
    {
      "cell_type": "markdown",
      "source": [
        "In this we have to find that howmany steps are required to make all the elements same. My approach is simple we are first of all finding the freqency of all the elements present in the array. After that we will susbstract the highest frequency from the total size of the array."
      ],
      "metadata": {
        "id": "X_oEl2svVCQC"
      }
    },
    {
      "cell_type": "code",
      "execution_count": null,
      "metadata": {
        "id": "r8RmjtKGUHPy"
      },
      "outputs": [],
      "source": [
        "import collections\n",
        "# cook your dish here\n",
        "t = int(input())\n",
        "while t > 0 :\n",
        "    n = int(input())\n",
        "    arr = list(map(int, input().split(\" \")))\n",
        "    element_count  = collections.Counter(arr)\n",
        "    val = list(element_count.values())\n",
        "    ans  = n - max(val)\n",
        "    print(ans)\n",
        "    t = t-1"
      ]
    }
  ]
}