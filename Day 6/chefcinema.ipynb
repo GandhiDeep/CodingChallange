{
  "nbformat": 4,
  "nbformat_minor": 0,
  "metadata": {
    "colab": {
      "name": "CodeChef",
      "provenance": [],
      "collapsed_sections": []
    },
    "kernelspec": {
      "name": "python3",
      "display_name": "Python 3"
    },
    "language_info": {
      "name": "python"
    }
  },
  "cells": [
    {
      "cell_type": "markdown",
      "source": [
        "https://www.codechef.com/submit/COVID_19"
      ],
      "metadata": {
        "id": "OooPJKkk7zCO"
      }
    },
    {
      "cell_type": "markdown",
      "source": [
        "There are total 4 cases. n = no of rows and m = seats in each row\n",
        "\n",
        "n is odd and m is odd.\n",
        "\n",
        "n is even and m is odd.\n",
        "\n",
        "n is odd and m is even.\n",
        "\n",
        "n is even and m is even."
      ],
      "metadata": {
        "id": "X_oEl2svVCQC"
      }
    },
    {
      "cell_type": "code",
      "execution_count": null,
      "metadata": {
        "id": "r8RmjtKGUHPy"
      },
      "outputs": [],
      "source": [
        "# cook your dish here\n",
        "t = int(input())\n",
        "while t > 0 :\n",
        "    n,m = map(int, input().split(\" \"))\n",
        "    rows_ava = n - int(n/2)\n",
        "    \n",
        "    if((n%2!=0 and m%2!=0) or (n%2==0 and m%2!=0)):\n",
        "        ans =  (int(m/2)+1)*rows_ava\n",
        "    else:\n",
        "        ans = int(m/2)*rows_ava\n",
        "    print(ans)\n",
        "    t = t-1"
      ]
    }
  ]
}