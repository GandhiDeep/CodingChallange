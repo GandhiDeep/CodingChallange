{
  "nbformat": 4,
  "nbformat_minor": 0,
  "metadata": {
    "colab": {
      "name": "CodeChef",
      "provenance": [],
      "collapsed_sections": []
    },
    "kernelspec": {
      "name": "python3",
      "display_name": "Python 3"
    },
    "language_info": {
      "name": "python"
    }
  },
  "cells": [
    {
      "cell_type": "markdown",
      "source": [
        "https://www.codechef.com/submit/XYSTR"
      ],
      "metadata": {
        "id": "OooPJKkk7zCO"
      }
    },
    {
      "cell_type": "markdown",
      "source": [
        "In this we are checking whether the element next to the i element is same or not.\n",
        "\n",
        "If the next element is same then we are increasing our indices to 1 and if it is different then we are increasing i by 2 and adding 1 to the count."
      ],
      "metadata": {
        "id": "X_oEl2svVCQC"
      }
    },
    {
      "cell_type": "code",
      "execution_count": null,
      "metadata": {
        "id": "r8RmjtKGUHPy"
      },
      "outputs": [],
      "source": [
        "# cook your dish here\n",
        "t = int(input())\n",
        "while t > 0 :\n",
        "    s = input()\n",
        "    i = 0\n",
        "    count = 0\n",
        "    while i < len(s)-1:\n",
        "        if(s[i]==s[i+1]):\n",
        "            i = i+1\n",
        "        else:\n",
        "            i = i+2\n",
        "            count = count + 1\n",
        "    print(count)\n",
        "    t = t-1"
      ]
    }
  ]
}