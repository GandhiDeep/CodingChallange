{
 "cells": [
  {
   "cell_type": "markdown",
   "metadata": {},
   "source": [
    "https://www.codechef.com/submit/WORDLE"
   ]
  },
  {
   "cell_type": "code",
   "execution_count": 3,
   "metadata": {},
   "outputs": [
    {
     "name": "stdout",
     "output_type": "stream",
     "text": [
      "GBBGB\n"
     ]
    }
   ],
   "source": [
    "t = int(input())\n",
    "\n",
    "while t>0:\n",
    "    x = input()\n",
    "    y = input()\n",
    "    answer = \"\"\n",
    "    for i in range(len(x)):\n",
    "        if(x[i] == y[i]):\n",
    "            answer = answer + 'G'\n",
    "        else:\n",
    "            answer = answer + 'B'\n",
    "    print(answer)\n",
    "    t = t-1"
   ]
  }
 ],
 "metadata": {
  "kernelspec": {
   "display_name": "Python 3.10.2 64-bit",
   "language": "python",
   "name": "python3"
  },
  "language_info": {
   "codemirror_mode": {
    "name": "ipython",
    "version": 3
   },
   "file_extension": ".py",
   "mimetype": "text/x-python",
   "name": "python",
   "nbconvert_exporter": "python",
   "pygments_lexer": "ipython3",
   "version": "3.10.2"
  },
  "orig_nbformat": 4,
  "vscode": {
   "interpreter": {
    "hash": "07f73eaab75900a92fe1d8071dc2a2bd27f88b07124009e287e1a74d2e34ff0c"
   }
  }
 },
 "nbformat": 4,
 "nbformat_minor": 2
}
