{
 "cells": [
  {
   "cell_type": "markdown",
   "metadata": {},
   "source": [
    "https://www.codechef.com/submit/CABS"
   ]
  },
  {
   "cell_type": "code",
   "execution_count": null,
   "metadata": {},
   "outputs": [],
   "source": [
    "# cook your dish here\n",
    "t = int(input())\n",
    "while t>0:\n",
    "    x,y = input().split(\" \")\n",
    "    if(int(x)>int(y)):\n",
    "        print(\"Second\")\n",
    "    elif(int(y)==int(x)):\n",
    "        print(\"Any\")\n",
    "    else:\n",
    "        print(\"First\")\n",
    "    t = t-1"
   ]
  }
 ],
 "metadata": {
  "kernelspec": {
   "display_name": "Python 3.10.2 64-bit",
   "language": "python",
   "name": "python3"
  },
  "language_info": {
   "name": "python",
   "version": "3.10.2"
  },
  "orig_nbformat": 4,
  "vscode": {
   "interpreter": {
    "hash": "07f73eaab75900a92fe1d8071dc2a2bd27f88b07124009e287e1a74d2e34ff0c"
   }
  }
 },
 "nbformat": 4,
 "nbformat_minor": 2
}
