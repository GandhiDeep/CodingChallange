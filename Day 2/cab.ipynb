{
 "cells": [
  {
   "cell_type": "markdown",
   "metadata": {},
   "source": [
    "https://www.codechef.com/submit/CABS"
   ]
  },
  {
   "cell_type": "code",
   "execution_count": null,
   "metadata": {},
   "outputs": [],
   "source": [
    "# cook your dish here\n",
    "t = int(input())\n",
    "while t>0:\n",
    "    x,y = input().split(\" \")\n",
    "    if(int(x)>int(y)):\n",
    "        print(\"Second\")\n",
    "    elif(int(y)==int(x)):\n",
    "        print(\"Any\")\n",
    "    else:\n",
    "        print(\"First\")\n",
    "    t = t-1"
   ]
  }
 ],
 "metadata": {
  "language_info": {
   "name": "python"
  },
  "orig_nbformat": 4
 },
 "nbformat": 4,
 "nbformat_minor": 2
}
