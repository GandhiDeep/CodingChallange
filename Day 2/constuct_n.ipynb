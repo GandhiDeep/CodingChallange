{
  "cells": [
    {
      "cell_type": "markdown",
      "metadata": {
        "id": "qa0ygWf6yrGw"
      },
      "source": [
        "### Answer Explanation\n",
        "We check whether the element is combination of 7 and 2 or not. So the element should satisfy the equation 2X + 7Y = n (element).\n",
        "\n",
        "---\n",
        "\n",
        "If y = 0 then the elements will be 2,4,6,8,10,... (all even numbers)\n",
        "\n",
        "If y = 1 and the value of x increases everytime we can make elements like 7,9,11,13,15,...(all odd numbers which are >= 7)\n",
        "\n",
        "So the elements which we can not derive from the equation is 1,3 and 5.\n"
      ]
    },
    {
      "cell_type": "code",
      "execution_count": null,
      "metadata": {
        "colab": {
          "base_uri": "https://localhost:8080/"
        },
        "id": "r8RmjtKGUHPy",
        "outputId": "37a4de70-51c2-4363-a87a-89ee40ca5757"
      },
      "outputs": [
        {
          "name": "stdout",
          "output_type": "stream",
          "text": [
            "1\n",
            "6\n",
            "Yes\n"
          ]
        }
      ],
      "source": [
        "# cook your dish here\n",
        "t = int(input())\n",
        "while t >0:\n",
        "    n = int(input())\n",
        "    if(n == 3 or n==5 or n==1):\n",
        "        print(\"No\")\n",
        "    else:\n",
        "        print(\"Yes\")\n",
        "    t -= 1"
      ]
    }
  ],
  "metadata": {
    "colab": {
      "collapsed_sections": [],
      "name": "Untitled",
      "provenance": []
    },
    "kernelspec": {
      "display_name": "Python 3.10.2 64-bit",
      "language": "python",
      "name": "python3"
    },
    "language_info": {
      "name": "python",
      "version": "3.10.2"
    },
    "vscode": {
      "interpreter": {
        "hash": "07f73eaab75900a92fe1d8071dc2a2bd27f88b07124009e287e1a74d2e34ff0c"
      }
    }
  },
  "nbformat": 4,
  "nbformat_minor": 0
}
