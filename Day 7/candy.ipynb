{
  "nbformat": 4,
  "nbformat_minor": 0,
  "metadata": {
    "colab": {
      "name": "CodeChef",
      "provenance": [],
      "collapsed_sections": []
    },
    "kernelspec": {
      "name": "python3",
      "display_name": "Python 3"
    },
    "language_info": {
      "name": "python"
    }
  },
  "cells": [
    {
      "cell_type": "markdown",
      "source": [
        "https://www.codechef.com/submit/CANDY123"
      ],
      "metadata": {
        "id": "OooPJKkk7zCO"
      }
    },
    {
      "cell_type": "code",
      "execution_count": null,
      "metadata": {
        "id": "r8RmjtKGUHPy"
      },
      "outputs": [],
      "source": [
        "# cook your dish here\n",
        "t = int(input())\n",
        "while t > 0:\n",
        "    a,b = map(int, input().split(\" \"))\n",
        "    lim = 0\n",
        "    bob = 0\n",
        "    i =1\n",
        "    while lim <= a and bob <= b:\n",
        "        lim = lim + i\n",
        "        i = i+1\n",
        "        bob = bob + i\n",
        "        i = i+1\n",
        "    if(lim > a):\n",
        "        print(\"Bob\")\n",
        "    else:\n",
        "        print(\"Limak\")\n",
        "    t = t-1"
      ]
    }
  ]
}