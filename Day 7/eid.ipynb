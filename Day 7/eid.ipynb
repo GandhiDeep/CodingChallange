{
  "nbformat": 4,
  "nbformat_minor": 0,
  "metadata": {
    "colab": {
      "name": "CodeChef",
      "provenance": [],
      "collapsed_sections": []
    },
    "kernelspec": {
      "name": "python3",
      "display_name": "Python 3"
    },
    "language_info": {
      "name": "python"
    }
  },
  "cells": [
    {
      "cell_type": "markdown",
      "source": [
        "https://www.codechef.com/submit/EID"
      ],
      "metadata": {
        "id": "OooPJKkk7zCO"
      }
    },
    {
      "cell_type": "code",
      "execution_count": null,
      "metadata": {
        "id": "r8RmjtKGUHPy"
      },
      "outputs": [],
      "source": [
        "# cook your dish here\n",
        "t = int(input())\n",
        "while t > 0:\n",
        "    n = int(input())\n",
        "    arr = list(map(int, input().split(\" \")))\n",
        "    arr.sort()\n",
        "    diff = 100000\n",
        "    for i in range(n-1):\n",
        "        min_diff = abs(arr[i]-arr[i+1])\n",
        "        if(min_diff < diff):\n",
        "            diff = min_diff\n",
        "    print(diff)\n",
        "    t = t-1"
      ]
    }
  ]
}