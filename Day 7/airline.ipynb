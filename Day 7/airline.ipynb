{
  "nbformat": 4,
  "nbformat_minor": 0,
  "metadata": {
    "colab": {
      "name": "CodeChef",
      "provenance": [],
      "collapsed_sections": []
    },
    "kernelspec": {
      "name": "python3",
      "display_name": "Python 3"
    },
    "language_info": {
      "name": "python"
    }
  },
  "cells": [
    {
      "cell_type": "markdown",
      "source": [
        "https://www.codechef.com/submit/AIRLINE"
      ],
      "metadata": {
        "id": "OooPJKkk7zCO"
      }
    },
    {
      "cell_type": "code",
      "execution_count": null,
      "metadata": {
        "id": "r8RmjtKGUHPy"
      },
      "outputs": [],
      "source": [
        "# cook your dish here\n",
        "t = int(input())\n",
        "while t > 0:\n",
        "    a,b,c,d,e = map(int, input().split(\" \"))\n",
        "    mi = min(a,b,c)\n",
        "    if(mi > e):\n",
        "        print(\"No\")\n",
        "    elif(a+b <= d and c <=e):\n",
        "        print(\"Yes\")\n",
        "    elif(b+c <=d and a<=e):\n",
        "        print(\"Yes\")\n",
        "    elif(c+a <=d and b<=e):\n",
        "        print(\"Yes\")\n",
        "    else:\n",
        "        print(\"No\")\n",
        "    t = t-1"
      ]
    }
  ]
}