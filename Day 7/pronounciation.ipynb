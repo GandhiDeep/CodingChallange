{
  "nbformat": 4,
  "nbformat_minor": 0,
  "metadata": {
    "colab": {
      "name": "CodeChef",
      "provenance": [],
      "collapsed_sections": []
    },
    "kernelspec": {
      "name": "python3",
      "display_name": "Python 3"
    },
    "language_info": {
      "name": "python"
    }
  },
  "cells": [
    {
      "cell_type": "markdown",
      "source": [
        "https://www.codechef.com/submit/EZSPEAK?tab=statement"
      ],
      "metadata": {
        "id": "OooPJKkk7zCO"
      }
    },
    {
      "cell_type": "markdown",
      "source": [
        "We will make a counter if we find any vowel the value of counter will be zero else we will increase it by 1. If the value of counter is greater than 4 than we will print it as no else yes."
      ],
      "metadata": {
        "id": "X_oEl2svVCQC"
      }
    },
    {
      "cell_type": "code",
      "execution_count": 9,
      "metadata": {
        "id": "r8RmjtKGUHPy",
        "colab": {
          "base_uri": "https://localhost:8080/"
        },
        "outputId": "f28d806f-4b6f-4f12-8392-2cfc61038114"
      },
      "outputs": [
        {
          "output_type": "stream",
          "name": "stdout",
          "text": [
            "1\n",
            "15\n",
            "schtschurowskia\n",
            "No\n"
          ]
        }
      ],
      "source": [
        "t = int(input())\n",
        "while t > 0:\n",
        "  vo = ['a','e','i','o','u']\n",
        "  n = int(input())\n",
        "  s = input()\n",
        "  count = 0\n",
        "  i = 0\n",
        "  while count<4 and i<n:\n",
        "    if(s[i] in vo):\n",
        "      count = 0\n",
        "      i = i+1\n",
        "    else:\n",
        "      count = count + 1\n",
        "      i = i+1\n",
        "\n",
        "  if(count==4):\n",
        "    print(\"No\")\n",
        "  else:\n",
        "    print(\"Yes\")\n",
        "  t = t-1"
      ]
    }
  ]
}