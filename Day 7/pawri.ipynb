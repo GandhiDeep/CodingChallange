{
  "nbformat": 4,
  "nbformat_minor": 0,
  "metadata": {
    "colab": {
      "name": "CodeChef",
      "provenance": [],
      "collapsed_sections": []
    },
    "kernelspec": {
      "name": "python3",
      "display_name": "Python 3"
    },
    "language_info": {
      "name": "python"
    }
  },
  "cells": [
    {
      "cell_type": "markdown",
      "source": [
        "https://www.codechef.com/submit/PAWRI"
      ],
      "metadata": {
        "id": "OooPJKkk7zCO"
      }
    },
    {
      "cell_type": "code",
      "execution_count": null,
      "metadata": {
        "id": "r8RmjtKGUHPy"
      },
      "outputs": [],
      "source": [
        "# cook your dish here\n",
        "t = int(input())\n",
        "while t > 0:\n",
        "    s = input()\n",
        "    s.lower()\n",
        "    s1 = list(s)\n",
        "    n = len(s)\n",
        "    if(n<5):\n",
        "        print(s)\n",
        "    else:\n",
        "        for i in range(n-4):\n",
        "            if(s1[i]=='p' and s1[i+1]=='a' and s1[i+2]=='r' and s1[i+3]=='t' and s1[i+4]=='y'):\n",
        "                s1[i+2]='w'\n",
        "                s1[i+3]='r'\n",
        "                s1[i+4]='i'\n",
        "        print(''.join(map(str, s1)))\n",
        "    t = t-1"
      ]
    }
  ]
}