{
  "nbformat": 4,
  "nbformat_minor": 0,
  "metadata": {
    "colab": {
      "name": "CodeChef",
      "provenance": [],
      "collapsed_sections": []
    },
    "kernelspec": {
      "name": "python3",
      "display_name": "Python 3"
    },
    "language_info": {
      "name": "python"
    }
  },
  "cells": [
    {
      "cell_type": "markdown",
      "source": [
        "https://leetcode.com/problems/next-greater-element-i/submissions/"
      ],
      "metadata": {
        "id": "d8B2SdYGjEU-"
      }
    },
    {
      "cell_type": "code",
      "execution_count": null,
      "metadata": {
        "id": "r8RmjtKGUHPy"
      },
      "outputs": [],
      "source": [
        "class Solution:\n",
        "    def nextGreaterElement(self, nums1: List[int], nums2: List[int]) -> List[int]:\n",
        "        ans = []\n",
        "        for i in range(len(nums1)):\n",
        "            flag = 0\n",
        "            x = nums2.index(nums1[i])\n",
        "            for j in range(x,len(nums2)):\n",
        "                if(nums2[j] > nums1[i] and flag==0):\n",
        "                    ans.append(nums2[j])\n",
        "                    flag = 1\n",
        "            if(flag==0):\n",
        "                ans.append(-1)\n",
        "        return ans"
      ]
    }
  ]
}