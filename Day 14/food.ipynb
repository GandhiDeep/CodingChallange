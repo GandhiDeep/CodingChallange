{
  "nbformat": 4,
  "nbformat_minor": 0,
  "metadata": {
    "colab": {
      "name": "CodeChef",
      "provenance": [],
      "collapsed_sections": []
    },
    "kernelspec": {
      "name": "python3",
      "display_name": "Python 3"
    },
    "language_info": {
      "name": "python"
    }
  },
  "cells": [
    {
      "cell_type": "markdown",
      "source": [
        "https://www.codechef.com/submit/CFMM?tab=submissions"
      ],
      "metadata": {
        "id": "d8B2SdYGjEU-"
      }
    },
    {
      "cell_type": "code",
      "execution_count": 11,
      "metadata": {
        "id": "r8RmjtKGUHPy",
        "colab": {
          "base_uri": "https://localhost:8080/"
        },
        "outputId": "0396dfa2-1560-4d2f-cd60-34cde2594f57"
      },
      "outputs": [
        {
          "output_type": "stream",
          "name": "stdout",
          "text": [
            "1\n",
            "3\n",
            "deep\n",
            "hwllo\n",
            "hi\n",
            "Counter({'e': 2, 'h': 2, 'l': 2, 'd': 1, 'p': 1, 'w': 1, 'o': 1, 'i': 1})\n"
          ]
        }
      ],
      "source": [
        "for i in range(int(input())):\n",
        "    n=int(input())\n",
        "    l=\"\"\n",
        "    for i in range(n):\n",
        "        l += input()\n",
        "    c=l.count(\"c\")\n",
        "    o=l.count(\"o\")\n",
        "    d=l.count(\"d\")\n",
        "    e=l.count(\"e\")\n",
        "    h=l.count(\"h\")\n",
        "    f=l.count(\"f\")\n",
        "    c=c//2\n",
        "    e=e//2\n",
        "    print(min(c,o,d,e,h,f))"
      ]
    }
  ]
}