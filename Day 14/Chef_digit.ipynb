{
  "nbformat": 4,
  "nbformat_minor": 0,
  "metadata": {
    "colab": {
      "name": "CodeChef",
      "provenance": [],
      "collapsed_sections": []
    },
    "kernelspec": {
      "name": "python3",
      "display_name": "Python 3"
    },
    "language_info": {
      "name": "python"
    }
  },
  "cells": [
    {
      "cell_type": "markdown",
      "source": [
        "https://www.codechef.com/submit/LONGSEQ?tab=statement"
      ],
      "metadata": {
        "id": "d8B2SdYGjEU-"
      }
    },
    {
      "cell_type": "code",
      "execution_count": null,
      "metadata": {
        "id": "r8RmjtKGUHPy"
      },
      "outputs": [],
      "source": [
        "# cook your dish here\n",
        "t = int(input())\n",
        "while t > 0:\n",
        "    n = input()\n",
        "    ans = list(map(int, n))\n",
        "    c1 = 0\n",
        "    c0 = 0\n",
        "    for i in range(len(ans)):\n",
        "        if(ans[i]==0):\n",
        "            c0 += 1\n",
        "        else:\n",
        "            c1 += 1\n",
        "    if(c0==1 or c1==1):\n",
        "        print(\"Yes\")\n",
        "    else:\n",
        "        print(\"No\")\n",
        "    t = t-1\n",
        "    "
      ]
    }
  ]
}