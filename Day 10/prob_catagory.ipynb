{
  "nbformat": 4,
  "nbformat_minor": 0,
  "metadata": {
    "colab": {
      "name": "CodeChef",
      "provenance": [],
      "collapsed_sections": []
    },
    "kernelspec": {
      "name": "python3",
      "display_name": "Python 3"
    },
    "language_info": {
      "name": "python"
    }
  },
  "cells": [
    {
      "cell_type": "markdown",
      "source": [
        "https://www.codechef.com/submit/PROBCAT"
      ],
      "metadata": {
        "id": "OooPJKkk7zCO"
      }
    },
    {
      "cell_type": "code",
      "execution_count": null,
      "metadata": {
        "id": "r8RmjtKGUHPy"
      },
      "outputs": [],
      "source": [
        "# cook your dish here\n",
        "t = int(input())\n",
        "while t > 0:\n",
        "    x = int(input())\n",
        "    if(x >=1 and x<100):\n",
        "        print(\"Easy\")\n",
        "    elif(x>=100 and x<200):\n",
        "        print(\"Medium\")\n",
        "    else:\n",
        "        print(\"Hard\")\n",
        "    t =t-1"
      ]
    }
  ]
}