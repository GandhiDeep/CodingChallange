{
  "nbformat": 4,
  "nbformat_minor": 0,
  "metadata": {
    "colab": {
      "name": "CodeChef",
      "provenance": [],
      "collapsed_sections": []
    },
    "kernelspec": {
      "name": "python3",
      "display_name": "Python 3"
    },
    "language_info": {
      "name": "python"
    }
  },
  "cells": [
    {
      "cell_type": "markdown",
      "source": [
        "https://www.codechef.com/submit/IMDB?tab=statement"
      ],
      "metadata": {
        "id": "OooPJKkk7zCO"
      }
    },
    {
      "cell_type": "code",
      "execution_count": null,
      "metadata": {
        "id": "r8RmjtKGUHPy"
      },
      "outputs": [],
      "source": [
        "# cook your dish here\n",
        "t = int(input())\n",
        "while t>0:\n",
        "    n,x = map(int, input().split(\" \"))\n",
        "    rating = 0\n",
        "    for i in range(n):\n",
        "        s,r = map(int, input().split(\" \"))\n",
        "        if(s<=x):\n",
        "            if(r>rating):\n",
        "                rating = r\n",
        "    print(rating)\n",
        "    t= t-1"
      ]
    }
  ]
}