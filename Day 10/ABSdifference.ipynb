{
  "nbformat": 4,
  "nbformat_minor": 0,
  "metadata": {
    "colab": {
      "name": "CodeChef",
      "provenance": [],
      "collapsed_sections": []
    },
    "kernelspec": {
      "name": "python3",
      "display_name": "Python 3"
    },
    "language_info": {
      "name": "python"
    }
  },
  "cells": [
    {
      "cell_type": "markdown",
      "source": [
        "https://www.codechef.com/submit/MAX_DIFF?tab=statement"
      ],
      "metadata": {
        "id": "OooPJKkk7zCO"
      }
    },
    {
      "cell_type": "code",
      "execution_count": null,
      "metadata": {
        "id": "r8RmjtKGUHPy"
      },
      "outputs": [],
      "source": [
        "t = int(input())\n",
        "while t > 0:\n",
        "    n,s = map(int, input().split(\" \"))\n",
        "    if(n>=s):\n",
        "      print(s)\n",
        "    else:\n",
        "      print((2*n)-s)\n",
        "    t = t-1"
      ]
    }
  ]
}