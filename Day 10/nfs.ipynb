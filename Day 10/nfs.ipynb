{
  "nbformat": 4,
  "nbformat_minor": 0,
  "metadata": {
    "colab": {
      "name": "CodeChef",
      "provenance": [],
      "collapsed_sections": []
    },
    "kernelspec": {
      "name": "python3",
      "display_name": "Python 3"
    },
    "language_info": {
      "name": "python"
    }
  },
  "cells": [
    {
      "cell_type": "markdown",
      "source": [
        "https://www.codechef.com/submit/NFS?tab=statement"
      ],
      "metadata": {
        "id": "OooPJKkk7zCO"
      }
    },
    {
      "cell_type": "code",
      "execution_count": 12,
      "metadata": {
        "id": "r8RmjtKGUHPy",
        "colab": {
          "base_uri": "https://localhost:8080/"
        },
        "outputId": "1d23a5c2-7190-4598-b05e-d3375466eee1"
      },
      "outputs": [
        {
          "output_type": "stream",
          "name": "stdout",
          "text": [
            "1\n",
            "1 1 1 1\n",
            "-1\n",
            "Yes\n"
          ]
        }
      ],
      "source": [
        "# cook your dish here\n",
        "import math\n",
        "t = int(input())\n",
        "while t > 0:\n",
        "    u,v,a,s = map(int, input().split(\" \"))\n",
        "    ans = u*u - 2*a*s\n",
        "    if(ans <= v*v):\n",
        "        print(\"Yes\")\n",
        "    else:\n",
        "        print(\"No\")\n",
        "    t = t-1"
      ]
    }
  ]
}