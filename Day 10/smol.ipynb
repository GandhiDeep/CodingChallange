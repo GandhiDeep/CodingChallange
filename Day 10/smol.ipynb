{
  "nbformat": 4,
  "nbformat_minor": 0,
  "metadata": {
    "colab": {
      "name": "CodeChef",
      "provenance": [],
      "collapsed_sections": []
    },
    "kernelspec": {
      "name": "python3",
      "display_name": "Python 3"
    },
    "language_info": {
      "name": "python"
    }
  },
  "cells": [
    {
      "cell_type": "markdown",
      "source": [
        "https://www.codechef.com/submit/SMOL"
      ],
      "metadata": {
        "id": "OooPJKkk7zCO"
      }
    },
    {
      "cell_type": "code",
      "execution_count": null,
      "metadata": {
        "id": "r8RmjtKGUHPy"
      },
      "outputs": [],
      "source": [
        "# cook your dish here\n",
        "t = int(input())\n",
        "while t > 0:\n",
        "    n,k = map(int,input().split(\" \"))\n",
        "    if(n<k or k==0):\n",
        "        print(n)\n",
        "    else:\n",
        "        x = int(n/k)\n",
        "        ans = n-x*k\n",
        "        print(ans)\n",
        "    t = t-1"
      ]
    }
  ]
}